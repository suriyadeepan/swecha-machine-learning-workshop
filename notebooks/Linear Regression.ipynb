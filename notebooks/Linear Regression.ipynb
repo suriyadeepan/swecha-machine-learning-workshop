{
 "cells": [
  {
   "cell_type": "markdown",
   "metadata": {},
   "source": [
    "## Modules for plotting"
   ]
  },
  {
   "cell_type": "code",
   "execution_count": 13,
   "metadata": {
    "collapsed": true
   },
   "outputs": [],
   "source": [
    "from matplotlib import pyplot as plt\n",
    "plt.style.use('ggplot')\n",
    "%matplotlib inline"
   ]
  },
  {
   "cell_type": "code",
   "execution_count": 1,
   "metadata": {
    "collapsed": true
   },
   "outputs": [],
   "source": [
    "import tensorflow as tf\n",
    "import numpy as np"
   ]
  },
  {
   "cell_type": "markdown",
   "metadata": {},
   "source": [
    "## What is numpy?"
   ]
  },
  {
   "cell_type": "markdown",
   "metadata": {},
   "source": [
    "NumPy is the fundamental package for scientific computing with Python.\n",
    "\n",
    "- a powerful N-dimensional array object\n",
    "- sophisticated (broadcasting) functions\n",
    "- useful linear algebra, Fourier transform, and random number capabilities"
   ]
  },
  {
   "cell_type": "markdown",
   "metadata": {},
   "source": [
    "Let's test it's random number capabilities"
   ]
  },
  {
   "cell_type": "markdown",
   "metadata": {},
   "source": [
    "- `np.random.randn` : Return a sample (or samples) from the \"standard normal\" distribution."
   ]
  },
  {
   "cell_type": "code",
   "execution_count": 22,
   "metadata": {
    "collapsed": false
   },
   "outputs": [],
   "source": [
    "mu = 0\n",
    "sigma = 0.3\n",
    "data_rnd_x = 0.5 + (sigma * np.random.randn(100))\n",
    "noise = 0.1 * np.random.randn(100)\n",
    "data_rnd_y = (1.2*data_rnd_x) + 2.4 + noise"
   ]
  },
  {
   "cell_type": "code",
   "execution_count": 23,
   "metadata": {
    "collapsed": false
   },
   "outputs": [
    {
     "data": {
      "image/png": "[encoded data removed]",
      "text/plain": [
       "<matplotlib.figure.Figure at 0x7fbdb0cae4a8>"
      ]
     },
     "metadata": {},
     "output_type": "display_data"
    }
   ],
   "source": [
    "plt.scatter(data_rnd_x, data_rnd_y)\n",
    "plt.show()"
   ]
  },
  {
   "cell_type": "markdown",
   "metadata": {},
   "source": [
    "## Why would you do that?"
   ]
  },
  {
   "cell_type": "markdown",
   "metadata": {},
   "source": [
    "What did I do?\n",
    "\n",
    "1. Create n=100 random numbers, by sampling from a normal distribution, $\\mathcal{N}(\\mu=0, \\sigma=0.3)$\n",
    "2. Create the data generating distribution, $y = 1.2x + 2.4$\n",
    "3. Add noise to it. Why? Because REAL data is noisy, due to measurement errors and many other factors. Noise is gaussian, drawn from $\\mathcal{N}(\\mu=0, \\sigma=0.1)$"
   ]
  },
  {
   "cell_type": "markdown",
   "metadata": {},
   "source": [
    "## Objective"
   ]
  },
  {
   "cell_type": "markdown",
   "metadata": {},
   "source": [
    "Now forget the data generating distribution and all the other non-sense. We have two sets of data points, x (`data_rand_x`) and y (`data_rand_y`). We need to come up with a hypothesis, $y=mx + c$ or $y=wx + b$, that fits the data, and approximates the data generating distribution.\n",
    "\n",
    "TLDR; \n",
    "- We need to arrive at `w=1.2` and `b=2.4`, given `data_rand_x` and `data_rand_y`, despite the noise"
   ]
  },
  {
   "cell_type": "markdown",
   "metadata": {},
   "source": [
    "## Linear Regression"
   ]
  },
  {
   "cell_type": "markdown",
   "metadata": {},
   "source": [
    "> Linear regression is an approach for modeling the relationship between a\n",
    "scalar dependent variable `y` and, one or more independent variables denoted by `x`."
   ]
  },
  {
   "cell_type": "markdown",
   "metadata": {},
   "source": [
    "## Tensorflow Graph"
   ]
  },
  {
   "cell_type": "code",
   "execution_count": 27,
   "metadata": {
    "collapsed": true
   },
   "outputs": [],
   "source": [
    "tf.reset_default_graph()"
   ]
  },
  {
   "cell_type": "markdown",
   "metadata": {},
   "source": [
    "- placeholders"
   ]
  },
  {
   "cell_type": "code",
   "execution_count": 28,
   "metadata": {
    "collapsed": true
   },
   "outputs": [],
   "source": [
    "x_ = tf.placeholder(tf.float32, name='x')\n",
    "y_ = tf.placeholder(tf.float32, name='y')"
   ]
  },
  {
   "cell_type": "markdown",
   "metadata": {},
   "source": [
    "- parameters"
   ]
  },
  {
   "cell_type": "code",
   "execution_count": 29,
   "metadata": {
    "collapsed": false
   },
   "outputs": [],
   "source": [
    "w = tf.get_variable(name='w', dtype=tf.float32, shape=(),\n",
    "                    initializer=tf.contrib.layers.xavier_initializer())\n",
    "b = tf.get_variable(name='b', dtype=tf.float32, shape=(),\n",
    "                   initializer=tf.contrib.layers.xavier_initializer())"
   ]
  },
  {
   "cell_type": "markdown",
   "metadata": {},
   "source": [
    "- operation"
   ]
  },
  {
   "cell_type": "code",
   "execution_count": 32,
   "metadata": {
    "collapsed": true
   },
   "outputs": [],
   "source": [
    "prediction = (w*x_) + b"
   ]
  },
  {
   "cell_type": "markdown",
   "metadata": {},
   "source": [
    "## Execute Graph"
   ]
  },
  {
   "cell_type": "code",
   "execution_count": 34,
   "metadata": {
    "collapsed": true
   },
   "outputs": [],
   "source": [
    "sess = tf.InteractiveSession()\n",
    "sess.run(tf.global_variables_initializer())\n",
    "\n",
    "predicted_value, w_value, b_value = sess.run([prediction, w, b], feed_dict={\n",
    "    x_ : data_rnd_x[0],\n",
    "    y_ : data_rnd_y[0]\n",
    "})"
   ]
  },
  {
   "cell_type": "code",
   "execution_count": 36,
   "metadata": {
    "collapsed": false
   },
   "outputs": [
    {
     "name": "stdout",
     "output_type": "stream",
     "text": [
      "predicted value -0.177428\n",
      "real value 3.09664410747\n",
      "w : -1.6432671546936035, b : 0.8648260831832886\n",
      "Real values\n",
      "w : 1.2, b : 2.4\n"
     ]
    }
   ],
   "source": [
    "print('predicted value', predicted_value)\n",
    "print('real value', data_rnd_y[0])\n",
    "print('w : {}, b : {}'.format(w_value, b_value))\n",
    "print('Real values')\n",
    "print('w : 1.2, b : 2.4')"
   ]
  },
  {
   "cell_type": "markdown",
   "metadata": {},
   "source": [
    "## Optimization"
   ]
  },
  {
   "cell_type": "markdown",
   "metadata": {},
   "source": [
    "**Mean Square Error : MSE**\n",
    "$$loss = (y - \\hat{y})^2$$"
   ]
  },
  {
   "cell_type": "code",
   "execution_count": 37,
   "metadata": {
    "collapsed": true
   },
   "outputs": [],
   "source": [
    "loss = tf.square(y_ - prediction)\n",
    "# optimizer\n",
    "optimizer = tf.train.GradientDescentOptimizer(learning_rate=0.1)\n",
    "# train op\n",
    "train_op = optimizer.minimize(loss)"
   ]
  },
  {
   "cell_type": "code",
   "execution_count": 48,
   "metadata": {
    "collapsed": false
   },
   "outputs": [
    {
     "name": "stdout",
     "output_type": "stream",
     "text": [
      "y = 1.044123649597168x + 2.5119495391845703\n",
      "y = 1.156640648841858x + 2.4477052688598633\n",
      "y = 1.1826056241989136x + 2.432880401611328\n",
      "y = 1.1885969638824463x + 2.4294593334198\n",
      "y = 1.1899795532226562x + 2.4286699295043945\n",
      "y = 1.1902990341186523x + 2.428487539291382\n",
      "y = 1.1903728246688843x + 2.428445339202881\n",
      "y = 1.1903893947601318x + 2.428435802459717\n",
      "y = 1.190393090248108x + 2.428433895111084\n",
      "y = 1.1903941631317139x + 2.428433418273926\n",
      "y = 1.1903942823410034x + 2.4284331798553467\n",
      "y = 1.1903942823410034x + 2.4284331798553467\n",
      "y = 1.1903942823410034x + 2.4284331798553467\n",
      "y = 1.1903942823410034x + 2.4284331798553467\n",
      "y = 1.1903942823410034x + 2.4284331798553467\n",
      "y = 1.1903942823410034x + 2.4284331798553467\n",
      "y = 1.1903942823410034x + 2.4284331798553467\n",
      "y = 1.1903942823410034x + 2.4284331798553467\n",
      "y = 1.1903942823410034x + 2.4284331798553467\n",
      "y = 1.1903942823410034x + 2.4284331798553467\n",
      "y = 1.1903942823410034x + 2.4284331798553467\n",
      "y = 1.1903942823410034x + 2.4284331798553467\n",
      "y = 1.1903942823410034x + 2.4284331798553467\n",
      "y = 1.1903942823410034x + 2.4284331798553467\n",
      "y = 1.1903942823410034x + 2.4284331798553467\n",
      "y = 1.1903942823410034x + 2.4284331798553467\n",
      "y = 1.1903942823410034x + 2.4284331798553467\n",
      "y = 1.1903942823410034x + 2.4284331798553467\n",
      "y = 1.1903942823410034x + 2.4284331798553467\n",
      "y = 1.1903942823410034x + 2.4284331798553467\n",
      "y = 1.1903942823410034x + 2.4284331798553467\n",
      "y = 1.1903942823410034x + 2.4284331798553467\n",
      "y = 1.1903942823410034x + 2.4284331798553467\n",
      "y = 1.1903942823410034x + 2.4284331798553467\n",
      "y = 1.1903942823410034x + 2.4284331798553467\n",
      "y = 1.1903942823410034x + 2.4284331798553467\n",
      "y = 1.1903942823410034x + 2.4284331798553467\n",
      "y = 1.1903942823410034x + 2.4284331798553467\n",
      "y = 1.1903942823410034x + 2.4284331798553467\n",
      "y = 1.1903942823410034x + 2.4284331798553467\n",
      "y = 1.1903942823410034x + 2.4284331798553467\n",
      "y = 1.1903942823410034x + 2.4284331798553467\n",
      "y = 1.1903942823410034x + 2.4284331798553467\n",
      "y = 1.1903942823410034x + 2.4284331798553467\n",
      "y = 1.1903942823410034x + 2.4284331798553467\n",
      "y = 1.1903942823410034x + 2.4284331798553467\n",
      "y = 1.1903942823410034x + 2.4284331798553467\n",
      "y = 1.1903942823410034x + 2.4284331798553467\n",
      "y = 1.1903942823410034x + 2.4284331798553467\n",
      "y = 1.1903942823410034x + 2.4284331798553467\n",
      "y = 1.1903942823410034x + 2.4284331798553467\n",
      "y = 1.1903942823410034x + 2.4284331798553467\n",
      "y = 1.1903942823410034x + 2.4284331798553467\n",
      "y = 1.1903942823410034x + 2.4284331798553467\n",
      "y = 1.1903942823410034x + 2.4284331798553467\n",
      "y = 1.1903942823410034x + 2.4284331798553467\n",
      "y = 1.1903942823410034x + 2.4284331798553467\n",
      "y = 1.1903942823410034x + 2.4284331798553467\n",
      "y = 1.1903942823410034x + 2.4284331798553467\n",
      "y = 1.1903942823410034x + 2.4284331798553467\n",
      "y = 1.1903942823410034x + 2.4284331798553467\n",
      "y = 1.1903942823410034x + 2.4284331798553467\n",
      "y = 1.1903942823410034x + 2.4284331798553467\n",
      "y = 1.1903942823410034x + 2.4284331798553467\n",
      "y = 1.1903942823410034x + 2.4284331798553467\n",
      "y = 1.1903942823410034x + 2.4284331798553467\n",
      "y = 1.1903942823410034x + 2.4284331798553467\n",
      "y = 1.1903942823410034x + 2.4284331798553467\n",
      "y = 1.1903942823410034x + 2.4284331798553467\n",
      "y = 1.1903942823410034x + 2.4284331798553467\n",
      "y = 1.1903942823410034x + 2.4284331798553467\n",
      "y = 1.1903942823410034x + 2.4284331798553467\n",
      "y = 1.1903942823410034x + 2.4284331798553467\n",
      "y = 1.1903942823410034x + 2.4284331798553467\n",
      "y = 1.1903942823410034x + 2.4284331798553467\n",
      "y = 1.1903942823410034x + 2.4284331798553467\n",
      "y = 1.1903942823410034x + 2.4284331798553467\n",
      "y = 1.1903942823410034x + 2.4284331798553467\n",
      "y = 1.1903942823410034x + 2.4284331798553467\n",
      "y = 1.1903942823410034x + 2.4284331798553467\n",
      "y = 1.1903942823410034x + 2.4284331798553467\n",
      "y = 1.1903942823410034x + 2.4284331798553467\n",
      "y = 1.1903942823410034x + 2.4284331798553467\n",
      "y = 1.1903942823410034x + 2.4284331798553467\n",
      "y = 1.1903942823410034x + 2.4284331798553467\n",
      "y = 1.1903942823410034x + 2.4284331798553467\n",
      "y = 1.1903942823410034x + 2.4284331798553467\n",
      "y = 1.1903942823410034x + 2.4284331798553467\n",
      "y = 1.1903942823410034x + 2.4284331798553467\n",
      "y = 1.1903942823410034x + 2.4284331798553467\n",
      "y = 1.1903942823410034x + 2.4284331798553467\n",
      "y = 1.1903942823410034x + 2.4284331798553467\n",
      "y = 1.1903942823410034x + 2.4284331798553467\n",
      "y = 1.1903942823410034x + 2.4284331798553467\n",
      "y = 1.1903942823410034x + 2.4284331798553467\n",
      "y = 1.1903942823410034x + 2.4284331798553467\n",
      "y = 1.1903942823410034x + 2.4284331798553467\n",
      "y = 1.1903942823410034x + 2.4284331798553467\n",
      "y = 1.1903942823410034x + 2.4284331798553467\n",
      "y = 1.1903942823410034x + 2.4284331798553467\n"
     ]
    }
   ],
   "source": [
    "sess.run(tf.global_variables_initializer())\n",
    "epochs = 100\n",
    "\n",
    "for i in range(epochs):\n",
    "    for batch_x, batch_y in zip(data_rnd_x, data_rnd_y):\n",
    "        loss_value = sess.run([train_op, loss], feed_dict={\n",
    "            x_ : batch_x,\n",
    "            y_ : batch_y\n",
    "        })\n",
    "    # evaluate\n",
    "    #  pick a random value from data\n",
    "    w_value, b_value = sess.run([w, b])\n",
    "    print('y = {}x + {}'.format(w_value, b_value))"
   ]
  },
  {
   "cell_type": "markdown",
   "metadata": {},
   "source": [
    "## Sample from Hypothesis"
   ]
  },
  {
   "cell_type": "code",
   "execution_count": 70,
   "metadata": {
    "collapsed": false
   },
   "outputs": [],
   "source": [
    "samples_from_hypothesis = b_value + (w_value * data_rnd_x )"
   ]
  },
  {
   "cell_type": "code",
   "execution_count": 76,
   "metadata": {
    "collapsed": false
   },
   "outputs": [
    {
     "data": {
      "image/png": "[encoded data removed]",
      "text/plain": [
       "<matplotlib.figure.Figure at 0x7fbd82beea20>"
      ]
     },
     "metadata": {},
     "output_type": "display_data"
    }
   ],
   "source": [
    "plt.plot(data_rnd_x, samples_from_hypothesis, 'blue')\n",
    "plt.scatter(data_rnd_x, data_rnd_y)\n",
    "plt.show()"
   ]
  }
 ],
 "metadata": {
  "kernelspec": {
   "display_name": "basic",
   "language": "python",
   "name": "basic"
  },
  "language_info": {
   "codemirror_mode": {
    "name": "ipython",
    "version": 3
   },
   "file_extension": ".py",
   "mimetype": "text/x-python",
   "name": "python",
   "nbconvert_exporter": "python",
   "pygments_lexer": "ipython3",
   "version": "3.5.2"
  }
 },
 "nbformat": 4,
 "nbformat_minor": 2
}
