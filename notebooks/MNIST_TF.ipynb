{
 "cells": [
  {
   "cell_type": "markdown",
   "metadata": {
    "deletable": true,
    "editable": true
   },
   "source": [
    "## IMPORTS"
   ]
  },
  {
   "cell_type": "code",
   "execution_count": 2,
   "metadata": {
    "collapsed": true,
    "deletable": true,
    "editable": true
   },
   "outputs": [],
   "source": [
    "import tensorflow as tf\n",
    "from tensorflow.examples.tutorials.mnist import input_data"
   ]
  },
  {
   "cell_type": "markdown",
   "metadata": {
    "deletable": true,
    "editable": true
   },
   "source": [
    "Wait. What are we importing?\n",
    "\n",
    "1. [**tensorflow**](https://www.tensorflow.org/) : google's machine learning framework (*numerical computation using data flow graphs*)\n",
    "2. [**mnist**](http://yann.lecun.com/exdb/mnist/) : large database of *labeled* handwritten digits"
   ]
  },
  {
   "cell_type": "code",
   "execution_count": 3,
   "metadata": {
    "collapsed": false,
    "deletable": true,
    "editable": true
   },
   "outputs": [
    {
     "data": {
      "text/plain": [
       "<module 'helper' from '/home/suriya/Documents/slides/swecha-ml/notebooks/helper.py'>"
      ]
     },
     "execution_count": 3,
     "metadata": {},
     "output_type": "execute_result"
    }
   ],
   "source": [
    "from matplotlib import pyplot as plt\n",
    "%matplotlib inline\n",
    "plt.style.use('ggplot')\n",
    "import helper\n",
    "import importlib\n",
    "importlib.reload(helper)"
   ]
  },
  {
   "cell_type": "markdown",
   "metadata": {
    "deletable": true,
    "editable": true
   },
   "source": [
    "## DATA"
   ]
  },
  {
   "cell_type": "code",
   "execution_count": 14,
   "metadata": {
    "collapsed": false,
    "deletable": true,
    "editable": true
   },
   "outputs": [
    {
     "name": "stdout",
     "output_type": "stream",
     "text": [
      "Extracting data/train-images-idx3-ubyte.gz\n",
      "Extracting data/train-labels-idx1-ubyte.gz\n",
      "Extracting data/t10k-images-idx3-ubyte.gz\n",
      "Extracting data/t10k-labels-idx1-ubyte.gz\n"
     ]
    }
   ],
   "source": [
    "mnist_data = input_data.read_data_sets(\"data/\")"
   ]
  },
  {
   "cell_type": "code",
   "execution_count": 15,
   "metadata": {
    "collapsed": false,
    "deletable": true,
    "editable": true
   },
   "outputs": [],
   "source": [
    "batch_n = mnist_data.train.next_batch(batch_size=8)"
   ]
  },
  {
   "cell_type": "code",
   "execution_count": 16,
   "metadata": {
    "collapsed": false,
    "deletable": true,
    "editable": true
   },
   "outputs": [
    {
     "data": {
      "text/plain": [
       "tuple"
      ]
     },
     "execution_count": 16,
     "metadata": {},
     "output_type": "execute_result"
    }
   ],
   "source": [
    "type(batch_n)"
   ]
  },
  {
   "cell_type": "code",
   "execution_count": 17,
   "metadata": {
    "collapsed": false,
    "deletable": true,
    "editable": true
   },
   "outputs": [
    {
     "data": {
      "text/plain": [
       "(array([[ 0.,  0.,  0., ...,  0.,  0.,  0.],\n",
       "        [ 0.,  0.,  0., ...,  0.,  0.,  0.],\n",
       "        [ 0.,  0.,  0., ...,  0.,  0.,  0.],\n",
       "        ..., \n",
       "        [ 0.,  0.,  0., ...,  0.,  0.,  0.],\n",
       "        [ 0.,  0.,  0., ...,  0.,  0.,  0.],\n",
       "        [ 0.,  0.,  0., ...,  0.,  0.,  0.]], dtype=float32),\n",
       " array([1, 4, 8, 9, 7, 9, 6, 3], dtype=uint8))"
      ]
     },
     "execution_count": 17,
     "metadata": {},
     "output_type": "execute_result"
    }
   ],
   "source": [
    "batch_n"
   ]
  },
  {
   "cell_type": "code",
   "execution_count": 18,
   "metadata": {
    "collapsed": false,
    "deletable": true,
    "editable": true
   },
   "outputs": [
    {
     "data": {
      "text/plain": [
       "((8, 784), (8,))"
      ]
     },
     "execution_count": 18,
     "metadata": {},
     "output_type": "execute_result"
    }
   ],
   "source": [
    "batch_n[0].shape, batch_n[1].shape"
   ]
  },
  {
   "cell_type": "markdown",
   "metadata": {
    "deletable": true,
    "editable": true
   },
   "source": [
    "## Structure of data"
   ]
  },
  {
   "cell_type": "markdown",
   "metadata": {
    "deletable": true,
    "editable": true
   },
   "source": [
    "- **(8,784)** : batch size (8), data dimension (784)\n",
    "    - **784** = 28 * 28   \n",
    "- **(8,)** : scalar label"
   ]
  },
  {
   "cell_type": "markdown",
   "metadata": {
    "deletable": true,
    "editable": true
   },
   "source": [
    "### Access by index"
   ]
  },
  {
   "cell_type": "code",
   "execution_count": 19,
   "metadata": {
    "collapsed": false,
    "deletable": true,
    "editable": true
   },
   "outputs": [
    {
     "name": "stdout",
     "output_type": "stream",
     "text": [
      "<class 'tuple'>\n",
      "(8, 784) <class 'numpy.ndarray'>\n",
      "(784,) <class 'numpy.ndarray'>\n"
     ]
    }
   ],
   "source": [
    "print(type(batch_n))\n",
    "print(batch_n[0].shape, type(batch_n[0]))\n",
    "print(batch_n[0][0].shape, type(batch_n[0][0]))"
   ]
  },
  {
   "cell_type": "code",
   "execution_count": 10,
   "metadata": {
    "collapsed": false,
    "deletable": true,
    "editable": true
   },
   "outputs": [
    {
     "name": "stdout",
     "output_type": "stream",
     "text": [
      "<class 'numpy.ndarray'>\n",
      "(784,)\n"
     ]
    }
   ],
   "source": [
    "image_0 = batch_n[0][0]\n",
    "print(type(image_0))\n",
    "print(image_0.shape)"
   ]
  },
  {
   "cell_type": "code",
   "execution_count": 20,
   "metadata": {
    "collapsed": false,
    "deletable": true,
    "editable": true
   },
   "outputs": [
    {
     "data": {
      "image/png": "[encoded data removed]",
      "text/plain": [
       "<matplotlib.figure.Figure at 0x7f28ca4f3a20>"
      ]
     },
     "metadata": {},
     "output_type": "display_data"
    }
   ],
   "source": [
    "helper.show_mnist_image(plt, batch_n[0][0])"
   ]
  },
  {
   "cell_type": "code",
   "execution_count": 21,
   "metadata": {
    "collapsed": false,
    "deletable": true,
    "editable": true
   },
   "outputs": [
    {
     "data": {
      "image/png": "[encoded data removed]",
      "text/plain": [
       "<matplotlib.figure.Figure at 0x7f28bfff6fd0>"
      ]
     },
     "metadata": {},
     "output_type": "display_data"
    }
   ],
   "source": [
    "helper.show_mnist_image(plt, batch_n[0][0], cmap='gray')"
   ]
  },
  {
   "cell_type": "markdown",
   "metadata": {
    "deletable": true,
    "editable": true
   },
   "source": [
    "## Is that a 1 or a 7?"
   ]
  },
  {
   "cell_type": "code",
   "execution_count": 22,
   "metadata": {
    "collapsed": false,
    "deletable": true,
    "editable": true
   },
   "outputs": [
    {
     "name": "stdout",
     "output_type": "stream",
     "text": [
      "1\n"
     ]
    }
   ],
   "source": [
    "label_0 = batch_n[1][0]\n",
    "print(label_0)"
   ]
  },
  {
   "cell_type": "markdown",
   "metadata": {
    "deletable": true,
    "editable": true
   },
   "source": [
    "## Can we display the whole batch?"
   ]
  },
  {
   "cell_type": "code",
   "execution_count": 23,
   "metadata": {
    "collapsed": false,
    "deletable": true,
    "editable": true
   },
   "outputs": [
    {
     "data": {
      "image/png": "[encoded data removed]",
      "text/plain": [
       "<matplotlib.figure.Figure at 0x7f28ca4be0f0>"
      ]
     },
     "metadata": {},
     "output_type": "display_data"
    },
    {
     "data": {
      "image/png": "[encoded data removed]",
      "text/plain": [
       "<matplotlib.figure.Figure at 0x7f28ca569f60>"
      ]
     },
     "metadata": {},
     "output_type": "display_data"
    },
    {
     "data": {
      "image/png": "[encoded data removed]",
      "text/plain": [
       "<matplotlib.figure.Figure at 0x7f28cc606eb8>"
      ]
     },
     "metadata": {},
     "output_type": "display_data"
    },
    {
     "data": {
      "image/png": "[encoded data removed]",
      "text/plain": [
       "<matplotlib.figure.Figure at 0x7f28bff8e4e0>"
      ]
     },
     "metadata": {},
     "output_type": "display_data"
    },
    {
     "data": {
      "image/png": "[encoded data removed]",
      "text/plain": [
       "<matplotlib.figure.Figure at 0x7f28bff60898>"
      ]
     },
     "metadata": {},
     "output_type": "display_data"
    },
    {
     "data": {
      "image/png": "[encoded data removed]",
      "text/plain": [
       "<matplotlib.figure.Figure at 0x7f28bff27cf8>"
      ]
     },
     "metadata": {},
     "output_type": "display_data"
    },
    {
     "data": {
      "image/png": "[encoded data removed]",
      "text/plain": [
       "<matplotlib.figure.Figure at 0x7f28bfefaef0>"
      ]
     },
     "metadata": {},
     "output_type": "display_data"
    },
    {
     "data": {
      "image/png": "[encoded data removed]",
      "text/plain": [
       "<matplotlib.figure.Figure at 0x7f28bfec5d68>"
      ]
     },
     "metadata": {},
     "output_type": "display_data"
    }
   ],
   "source": [
    "batch_images, batch_labels = batch_n[0], batch_n[1]\n",
    "helper.show_mnist_image_multi(plt, batch_images)"
   ]
  },
  {
   "cell_type": "markdown",
   "metadata": {
    "deletable": true,
    "editable": true
   },
   "source": [
    "## GRAPH"
   ]
  },
  {
   "cell_type": "markdown",
   "metadata": {
    "deletable": true,
    "editable": true
   },
   "source": [
    "- **What is a graph?**\n",
    "\n",
    "A computational graph or data-flow graph or simply, a graph, in tensorflow, is a network of interconnected nodes. A node represents an unique mathematical operation. The edges represent the multidimensional data arrays (tensors) passed through the nodes. The nodes perform transformations on the tensors being passed around.\n",
    "\n",
    "- **Node**\n",
    "\n",
    "Think of arithmetic operations like sum, product, etc,. When working on tensors, we perform linear algebraic operations, matrix multiplication (dot product), matrix/tensor tranformations, like transpose, reshape, etc,. \n",
    "\n",
    "- **Edge**\n",
    "\n",
    "Tensors are multidimensional arrays, which have two significant properties : shape, value. The shape defines the container and value defines the data contained. Where do the tensors come from? From the dataset, in this case, MNIST images and labels. As an image of a digit flows through the graph, it gets transformed - streched, twisted, .., to yield us what we need. Which in this case, is the correct label (0-9). \n",
    "\n",
    "Ultimately, we can think of the graph that we are gonna define, as a mapping from image (of a digit) to the label. A non-linear function that maps a vector of shape (784,) to a scalar (0-9). "
   ]
  },
  {
   "cell_type": "markdown",
   "metadata": {
    "deletable": true,
    "editable": true
   },
   "source": [
    "## Building a graph in tensorflow"
   ]
  },
  {
   "cell_type": "code",
   "execution_count": 24,
   "metadata": {
    "collapsed": true,
    "deletable": true,
    "editable": true
   },
   "outputs": [],
   "source": [
    "# clear default graph\n",
    "tf.reset_default_graph()"
   ]
  },
  {
   "cell_type": "markdown",
   "metadata": {
    "deletable": true,
    "editable": true
   },
   "source": [
    "### How to see the graph?"
   ]
  },
  {
   "cell_type": "code",
   "execution_count": 25,
   "metadata": {
    "collapsed": false,
    "deletable": true,
    "editable": true
   },
   "outputs": [
    {
     "data": {
      "text/plain": [
       "[]"
      ]
     },
     "execution_count": 25,
     "metadata": {},
     "output_type": "execute_result"
    }
   ],
   "source": [
    "graph_ = tf.get_default_graph()\n",
    "graph_.get_operations()"
   ]
  },
  {
   "cell_type": "markdown",
   "metadata": {
    "deletable": true,
    "editable": true
   },
   "source": [
    "We have defined any operations yet. Let's do that now"
   ]
  },
  {
   "cell_type": "code",
   "execution_count": 26,
   "metadata": {
    "collapsed": true,
    "deletable": true,
    "editable": true
   },
   "outputs": [],
   "source": [
    "a = tf.placeholder(tf.float32) # scalar\n",
    "b = tf.placeholder(tf.float32)\n",
    "c = a*b # scalar multiplication"
   ]
  },
  {
   "cell_type": "code",
   "execution_count": 27,
   "metadata": {
    "collapsed": false,
    "deletable": true,
    "editable": true
   },
   "outputs": [
    {
     "data": {
      "text/plain": [
       "[<tf.Operation 'Placeholder' type=Placeholder>,\n",
       " <tf.Operation 'Placeholder_1' type=Placeholder>,\n",
       " <tf.Operation 'mul' type=Mul>]"
      ]
     },
     "execution_count": 27,
     "metadata": {},
     "output_type": "execute_result"
    }
   ],
   "source": [
    "tf.get_default_graph().get_operations()"
   ]
  },
  {
   "cell_type": "markdown",
   "metadata": {
    "deletable": true,
    "editable": true
   },
   "source": [
    "Let's give them names."
   ]
  },
  {
   "cell_type": "code",
   "execution_count": 28,
   "metadata": {
    "collapsed": true,
    "deletable": true,
    "editable": true
   },
   "outputs": [],
   "source": [
    "# what do we do first?\n",
    "#  clear the graph\n",
    "tf.reset_default_graph()\n",
    "a = tf.placeholder(tf.float32, name='a') # scalar\n",
    "b = tf.placeholder(tf.float32, name='b')\n",
    "c = a*b # scalar multiplication"
   ]
  },
  {
   "cell_type": "code",
   "execution_count": 29,
   "metadata": {
    "collapsed": false,
    "deletable": true,
    "editable": true
   },
   "outputs": [
    {
     "data": {
      "text/plain": [
       "[<tf.Operation 'a' type=Placeholder>,\n",
       " <tf.Operation 'b' type=Placeholder>,\n",
       " <tf.Operation 'mul' type=Mul>]"
      ]
     },
     "execution_count": 29,
     "metadata": {},
     "output_type": "execute_result"
    }
   ],
   "source": [
    "tf.get_default_graph().get_operations()"
   ]
  },
  {
   "cell_type": "markdown",
   "metadata": {
    "deletable": true,
    "editable": true
   },
   "source": [
    "## How to use the graph?"
   ]
  },
  {
   "cell_type": "markdown",
   "metadata": {
    "deletable": true,
    "editable": true
   },
   "source": [
    "1. Get your data ready\n",
    "2. Start a tensorflow session : `tf.InteractiveSession()`\n",
    "3. Execute graph using session variable\n",
    "    - Feed data through `feed_dict`\n",
    "    - fetch response from graph"
   ]
  },
  {
   "cell_type": "markdown",
   "metadata": {
    "deletable": true,
    "editable": true
   },
   "source": [
    "**[1]**"
   ]
  },
  {
   "cell_type": "code",
   "execution_count": 30,
   "metadata": {
    "collapsed": true,
    "deletable": true,
    "editable": true
   },
   "outputs": [],
   "source": [
    "data_a = 69\n",
    "data_b = 0.2"
   ]
  },
  {
   "cell_type": "markdown",
   "metadata": {
    "deletable": true,
    "editable": true
   },
   "source": [
    "**[2]**"
   ]
  },
  {
   "cell_type": "code",
   "execution_count": 31,
   "metadata": {
    "collapsed": true,
    "deletable": true,
    "editable": true
   },
   "outputs": [],
   "source": [
    "sess = tf.InteractiveSession()"
   ]
  },
  {
   "cell_type": "markdown",
   "metadata": {
    "deletable": true,
    "editable": true
   },
   "source": [
    "**[3], [4]**"
   ]
  },
  {
   "cell_type": "code",
   "execution_count": 32,
   "metadata": {
    "collapsed": false,
    "deletable": true,
    "editable": true
   },
   "outputs": [],
   "source": [
    "response = sess.run(c, feed_dict = {\n",
    "    a : data_a,\n",
    "    b : data_b\n",
    "})"
   ]
  },
  {
   "cell_type": "code",
   "execution_count": 33,
   "metadata": {
    "collapsed": false,
    "deletable": true,
    "editable": true
   },
   "outputs": [
    {
     "data": {
      "text/plain": [
       "13.8"
      ]
     },
     "execution_count": 33,
     "metadata": {},
     "output_type": "execute_result"
    }
   ],
   "source": [
    "response"
   ]
  },
  {
   "cell_type": "markdown",
   "metadata": {
    "deletable": true,
    "editable": true
   },
   "source": [
    "## Can we get back to the problem now?"
   ]
  },
  {
   "cell_type": "markdown",
   "metadata": {
    "deletable": true,
    "editable": true
   },
   "source": [
    "What were we doing though?\n",
    "\n",
    "We were trying to build a graph that will output the correct label (0-9) \n",
    "given an image of a digit. We have the data ready. **[1]** is done!\n",
    "\n",
    "Let's build the graph."
   ]
  },
  {
   "cell_type": "markdown",
   "metadata": {
    "deletable": true,
    "editable": true
   },
   "source": [
    "## Regression"
   ]
  },
  {
   "cell_type": "markdown",
   "metadata": {
    "deletable": true,
    "editable": true
   },
   "source": [
    "**The what now?**\n",
    "\n",
    "$$\n",
    "logits = Wx + b\\\\\n",
    "probs = softmax(logits)\\\\\n",
    "label, \\hat{y} = argmax(probs)\\\\\n",
    "$$\n",
    "\n",
    "**What is happening?**\n",
    "\n",
    "Regression is a single-layer affine transformation. In the equation above, $logits=Wx + b$ refers to the regression part. What comes after, is the classification part. Let's travel backward.\n",
    "\n",
    "- $ \\hat{y} $ : label, whose value ranges from (0-9)\n",
    "- $ probs $ : an array of length `10`, containing probabilities; scalars which range from 0 to 1. The value at index `0` in the array, represents the probability of the image being a `0`.\n",
    "- $ logits $ : very similar to the `probs`, but `logits` contains the raw scores or unnormalized probabilities of the image being each of the label.\n",
    "\n",
    "*Does that make sense?*"
   ]
  },
  {
   "cell_type": "markdown",
   "metadata": {
    "deletable": true,
    "editable": true
   },
   "source": [
    "## A Graph for Regression"
   ]
  },
  {
   "cell_type": "code",
   "execution_count": 34,
   "metadata": {
    "collapsed": true,
    "deletable": true,
    "editable": true
   },
   "outputs": [],
   "source": [
    "# clear the graph\n",
    "tf.reset_default_graph()"
   ]
  },
  {
   "cell_type": "markdown",
   "metadata": {
    "deletable": true,
    "editable": true
   },
   "source": [
    "Let's create placeholders. I have a convention for placeholders. I end them with `_`. What? you have a better idea?"
   ]
  },
  {
   "cell_type": "markdown",
   "metadata": {
    "deletable": true,
    "editable": true
   },
   "source": [
    "- define batch_size"
   ]
  },
  {
   "cell_type": "code",
   "execution_count": 35,
   "metadata": {
    "collapsed": true,
    "deletable": true,
    "editable": true
   },
   "outputs": [],
   "source": [
    "batch_size = 32"
   ]
  },
  {
   "cell_type": "code",
   "execution_count": 36,
   "metadata": {
    "collapsed": false,
    "deletable": true,
    "editable": true
   },
   "outputs": [],
   "source": [
    "x_ = tf.placeholder(shape=[batch_size, 784], dtype=tf.float32, name='x')\n",
    "y_ = tf.placeholder(shape=[batch_size, ], dtype=tf.int32, name='y')"
   ]
  },
  {
   "cell_type": "code",
   "execution_count": 37,
   "metadata": {
    "collapsed": false,
    "deletable": true,
    "editable": true
   },
   "outputs": [
    {
     "name": "stdout",
     "output_type": "stream",
     "text": [
      "Tensor(\"x:0\", shape=(32, 784), dtype=float32)\n",
      "Tensor(\"y:0\", shape=(32,), dtype=int32)\n"
     ]
    }
   ],
   "source": [
    "print(x_)\n",
    "print(y_)"
   ]
  },
  {
   "cell_type": "markdown",
   "metadata": {
    "deletable": true,
    "editable": true
   },
   "source": [
    "## Do we need a batch_size?"
   ]
  },
  {
   "cell_type": "code",
   "execution_count": 38,
   "metadata": {
    "collapsed": true,
    "deletable": true,
    "editable": true
   },
   "outputs": [],
   "source": [
    "# not really\n",
    "tf.reset_default_graph()\n",
    "x_ = tf.placeholder(shape=[None, None], dtype=tf.float32, name='x')\n",
    "y_ = tf.placeholder(shape=[None, ], dtype=tf.int64, name='y')"
   ]
  },
  {
   "cell_type": "code",
   "execution_count": 39,
   "metadata": {
    "collapsed": false,
    "deletable": true,
    "editable": true
   },
   "outputs": [
    {
     "name": "stdout",
     "output_type": "stream",
     "text": [
      "Tensor(\"x:0\", shape=(?, ?), dtype=float32)\n",
      "Tensor(\"y:0\", shape=(?,), dtype=int64)\n"
     ]
    }
   ],
   "source": [
    "print(x_)\n",
    "print(y_)"
   ]
  },
  {
   "cell_type": "markdown",
   "metadata": {
    "deletable": true,
    "editable": true
   },
   "source": [
    "> I think it's nice to have a little mystery."
   ]
  },
  {
   "cell_type": "markdown",
   "metadata": {
    "deletable": true,
    "editable": true
   },
   "source": [
    "## Parameters"
   ]
  },
  {
   "cell_type": "code",
   "execution_count": 40,
   "metadata": {
    "collapsed": false,
    "deletable": true,
    "editable": true
   },
   "outputs": [],
   "source": [
    "W = tf.get_variable(name='W', shape=[784, 10], dtype=tf.float32,\n",
    "                initializer=tf.contrib.layers.xavier_initializer())\n",
    "b = tf.get_variable(name='b', shape=[10], dtype=tf.float32,\n",
    "                   initializer=tf.constant_initializer(0.))"
   ]
  },
  {
   "cell_type": "markdown",
   "metadata": {
    "deletable": true,
    "editable": true
   },
   "source": [
    "- **W, b** are the parameters of the model\n",
    "- **W** : weight \n",
    "- **b** : bias"
   ]
  },
  {
   "cell_type": "markdown",
   "metadata": {
    "deletable": true,
    "editable": true
   },
   "source": [
    "## Operations"
   ]
  },
  {
   "cell_type": "markdown",
   "metadata": {
    "deletable": true,
    "editable": true
   },
   "source": [
    "1. logits (matmul/dot product)\n",
    "2. probabilities (softmax)\n",
    "3. label (argmax)"
   ]
  },
  {
   "cell_type": "markdown",
   "metadata": {
    "deletable": true,
    "editable": true
   },
   "source": [
    "**[1]**"
   ]
  },
  {
   "cell_type": "code",
   "execution_count": 41,
   "metadata": {
    "collapsed": true,
    "deletable": true,
    "editable": true
   },
   "outputs": [],
   "source": [
    "# affine transformation\n",
    "logits = tf.matmul(x_, W) + b"
   ]
  },
  {
   "cell_type": "markdown",
   "metadata": {
    "deletable": true,
    "editable": true
   },
   "source": [
    "**[2]**"
   ]
  },
  {
   "cell_type": "code",
   "execution_count": 42,
   "metadata": {
    "collapsed": true,
    "deletable": true,
    "editable": true
   },
   "outputs": [],
   "source": [
    "probs = tf.nn.softmax(logits)"
   ]
  },
  {
   "cell_type": "markdown",
   "metadata": {
    "deletable": true,
    "editable": true
   },
   "source": [
    "**[3]**"
   ]
  },
  {
   "cell_type": "code",
   "execution_count": 43,
   "metadata": {
    "collapsed": true,
    "deletable": true,
    "editable": true
   },
   "outputs": [],
   "source": [
    "predictions = tf.argmax(probs, axis=1)"
   ]
  },
  {
   "cell_type": "markdown",
   "metadata": {
    "deletable": true,
    "editable": true
   },
   "source": [
    "That's it. We are done with the minimal sub-graph that is required for **forward propagation**. Let's try to execute it."
   ]
  },
  {
   "cell_type": "markdown",
   "metadata": {
    "deletable": true,
    "editable": true
   },
   "source": [
    "## Forward Propagation"
   ]
  },
  {
   "cell_type": "markdown",
   "metadata": {
    "deletable": true,
    "editable": true
   },
   "source": [
    "1. Get your data ready\n",
    "2. Start a tensorflow session : `tf.InteractiveSession()`\n",
    "3. Execute graph using session variable\n",
    "    - Feed data through `feed_dict`\n",
    "    - fetch response from graph"
   ]
  },
  {
   "cell_type": "code",
   "execution_count": 44,
   "metadata": {
    "collapsed": false,
    "deletable": true,
    "editable": true
   },
   "outputs": [],
   "source": [
    "images_n, labels_n = batch_n[0], batch_n[1]"
   ]
  },
  {
   "cell_type": "markdown",
   "metadata": {
    "deletable": true,
    "editable": true
   },
   "source": [
    "### Sanity check"
   ]
  },
  {
   "cell_type": "code",
   "execution_count": 45,
   "metadata": {
    "collapsed": false,
    "deletable": true,
    "editable": true
   },
   "outputs": [
    {
     "name": "stdout",
     "output_type": "stream",
     "text": [
      "(8, 784) (8,)\n",
      "labels :  [1 4 8 9 7 9 6 3]\n"
     ]
    }
   ],
   "source": [
    "print(images_n.shape, labels_n.shape)\n",
    "print('labels : ', labels_n)"
   ]
  },
  {
   "cell_type": "code",
   "execution_count": 131,
   "metadata": {
    "collapsed": false,
    "deletable": true,
    "editable": true
   },
   "outputs": [
    {
     "data": {
      "image/png": "[encoded data removed]",
      "text/plain": [
       "<matplotlib.figure.Figure at 0x7f6894e51828>"
      ]
     },
     "metadata": {},
     "output_type": "display_data"
    }
   ],
   "source": [
    "helper.show_mnist_image(plt, images_n[-1])"
   ]
  },
  {
   "cell_type": "markdown",
   "metadata": {
    "deletable": true,
    "editable": true
   },
   "source": [
    "### Execute graph"
   ]
  },
  {
   "cell_type": "code",
   "execution_count": 46,
   "metadata": {
    "collapsed": true,
    "deletable": true,
    "editable": true
   },
   "outputs": [],
   "source": [
    "# create session\n",
    "sess = tf.InteractiveSession()"
   ]
  },
  {
   "cell_type": "markdown",
   "metadata": {
    "deletable": true,
    "editable": true
   },
   "source": [
    "Whenever we are using parameters in our model, that need to initialized,\n",
    "run `tf.global_variables_initializer()` in session."
   ]
  },
  {
   "cell_type": "code",
   "execution_count": 47,
   "metadata": {
    "collapsed": true,
    "deletable": true,
    "editable": true
   },
   "outputs": [],
   "source": [
    "init_op = tf.global_variables_initializer()\n",
    "sess.run(init_op)"
   ]
  },
  {
   "cell_type": "code",
   "execution_count": 48,
   "metadata": {
    "collapsed": false,
    "deletable": true,
    "editable": true
   },
   "outputs": [],
   "source": [
    "predicted_labels = sess.run(predictions, feed_dict= {\n",
    "    x_ : images_n,\n",
    "    y_ : labels_n\n",
    "})"
   ]
  },
  {
   "cell_type": "code",
   "execution_count": 49,
   "metadata": {
    "collapsed": false,
    "deletable": true,
    "editable": true
   },
   "outputs": [
    {
     "data": {
      "text/plain": [
       "array([6, 0, 8, 1, 0, 0, 0, 1])"
      ]
     },
     "execution_count": 49,
     "metadata": {},
     "output_type": "execute_result"
    }
   ],
   "source": [
    "predicted_labels"
   ]
  },
  {
   "cell_type": "code",
   "execution_count": 50,
   "metadata": {
    "collapsed": false,
    "deletable": true,
    "editable": true
   },
   "outputs": [
    {
     "data": {
      "text/plain": [
       "array([1, 4, 8, 9, 7, 9, 6, 3], dtype=uint8)"
      ]
     },
     "execution_count": 50,
     "metadata": {},
     "output_type": "execute_result"
    }
   ],
   "source": [
    "labels_n"
   ]
  },
  {
   "cell_type": "markdown",
   "metadata": {
    "deletable": true,
    "editable": true
   },
   "source": [
    "## What did we miss?"
   ]
  },
  {
   "cell_type": "markdown",
   "metadata": {
    "deletable": true,
    "editable": true
   },
   "source": [
    "> why kattappa killed bahubali?"
   ]
  },
  {
   "cell_type": "markdown",
   "metadata": {
    "deletable": true,
    "editable": true
   },
   "source": [
    "The parameters of the model (W,b), are initialized randomly. \n",
    "We need the right values of parameters, that will maximize the accuracy - give us correct labels.\n",
    "How do we find such parameters?\n",
    "\n",
    "**We learn from data.**\n",
    "\n",
    "1. We pass an image through the graph\n",
    "2. Look at the performance\n",
    "3. Measure the error ( compare `labels_n` with `probs` )\n",
    "4. Use the error as gauge, to change the parameters just a little bit\n",
    "5. Repeat for the next image (1)"
   ]
  },
  {
   "cell_type": "markdown",
   "metadata": {
    "deletable": true,
    "editable": true
   },
   "source": [
    "## Performance Measure"
   ]
  },
  {
   "cell_type": "markdown",
   "metadata": {
    "deletable": true,
    "editable": true
   },
   "source": [
    "We use the cost function or loss function, as measure of the performace. The `loss` is a scalar. We use a special loss function here (for classification problems), known as the **Cross Entropy**."
   ]
  },
  {
   "cell_type": "code",
   "execution_count": 51,
   "metadata": {
    "collapsed": false,
    "deletable": true,
    "editable": true
   },
   "outputs": [],
   "source": [
    "loss = tf.nn.sparse_softmax_cross_entropy_with_logits(labels=y_,\n",
    "                                                     logits=logits)"
   ]
  },
  {
   "cell_type": "markdown",
   "metadata": {
    "deletable": true,
    "editable": true
   },
   "source": [
    "Remember `y_`?"
   ]
  },
  {
   "cell_type": "markdown",
   "metadata": {
    "deletable": true,
    "editable": true
   },
   "source": [
    "## Execute Loss"
   ]
  },
  {
   "cell_type": "code",
   "execution_count": 52,
   "metadata": {
    "collapsed": true,
    "deletable": true,
    "editable": true
   },
   "outputs": [],
   "source": [
    "loss_value = sess.run(loss, feed_dict={\n",
    "    x_ : images_n,\n",
    "    y_ : labels_n\n",
    "})"
   ]
  },
  {
   "cell_type": "code",
   "execution_count": 53,
   "metadata": {
    "collapsed": false,
    "deletable": true,
    "editable": true
   },
   "outputs": [
    {
     "data": {
      "text/plain": [
       "array([ 2.76111054,  2.27143741,  1.94258213,  2.229743  ,  2.45285082,\n",
       "        2.62512231,  2.41428185,  2.34059143], dtype=float32)"
      ]
     },
     "execution_count": 53,
     "metadata": {},
     "output_type": "execute_result"
    }
   ],
   "source": [
    "loss_value"
   ]
  },
  {
   "cell_type": "code",
   "execution_count": 54,
   "metadata": {
    "collapsed": false,
    "deletable": true,
    "editable": true
   },
   "outputs": [
    {
     "data": {
      "text/plain": [
       "(8,)"
      ]
     },
     "execution_count": 54,
     "metadata": {},
     "output_type": "execute_result"
    }
   ],
   "source": [
    "loss_value.shape"
   ]
  },
  {
   "cell_type": "markdown",
   "metadata": {
    "deletable": true,
    "editable": true
   },
   "source": [
    "## Learning"
   ]
  },
  {
   "cell_type": "code",
   "execution_count": 55,
   "metadata": {
    "collapsed": true,
    "deletable": true,
    "editable": true
   },
   "outputs": [],
   "source": [
    "# take average of loss\n",
    "batch_loss = tf.nn.sparse_softmax_cross_entropy_with_logits(labels=y_,\n",
    "                                                     logits=logits)\n",
    "loss = tf.reduce_mean(batch_loss)"
   ]
  },
  {
   "cell_type": "code",
   "execution_count": 56,
   "metadata": {
    "collapsed": false,
    "deletable": true,
    "editable": true
   },
   "outputs": [
    {
     "name": "stdout",
     "output_type": "stream",
     "text": [
      "Tensor(\"SparseSoftmaxCrossEntropyWithLogits_1/SparseSoftmaxCrossEntropyWithLogits:0\", shape=(?,), dtype=float32)\n",
      "Tensor(\"Mean:0\", shape=(), dtype=float32)\n"
     ]
    }
   ],
   "source": [
    "print(batch_loss)\n",
    "print(loss)"
   ]
  },
  {
   "cell_type": "code",
   "execution_count": 57,
   "metadata": {
    "collapsed": true,
    "deletable": true,
    "editable": true
   },
   "outputs": [],
   "source": [
    "# training operation\n",
    "optimizer = tf.train.GradientDescentOptimizer(learning_rate=0.1)\n",
    "train_op = optimizer.minimize(loss)"
   ]
  },
  {
   "cell_type": "markdown",
   "metadata": {
    "deletable": true,
    "editable": true
   },
   "source": [
    "**What did we do?**\n",
    "\n",
    "1. Get average loss (scalar) from an array of losses of the whole batch\n",
    "2. Create an optimizer which internally uses Gradient Descent method (you should read up on that.)\n",
    "3. Define a training operation, which minimizes the loss"
   ]
  },
  {
   "cell_type": "markdown",
   "metadata": {
    "deletable": true,
    "editable": true
   },
   "source": [
    "## Execute Training"
   ]
  },
  {
   "cell_type": "markdown",
   "metadata": {
    "deletable": true,
    "editable": true
   },
   "source": [
    "Remember when we used `batch_n = mnist_data.train.next_batch(batch_size=8)` to get a small batch of size 8?\n",
    "\n",
    "Now we need the whole training set to train the model. The training will happen iteratively, one batch at a time. We define a term `epochs`, which represents the total number of iterations, to run training.\n",
    "\n",
    "1. Get a batch from mnist, using `mnist_data.train.next_batch`\n",
    "2. Run `train_op` in session\n",
    "3. Print `loss`\n",
    "4. Repeat (1) until end of epochs"
   ]
  },
  {
   "cell_type": "code",
   "execution_count": 58,
   "metadata": {
    "collapsed": false,
    "deletable": true,
    "editable": true
   },
   "outputs": [
    {
     "name": "stdout",
     "output_type": "stream",
     "text": [
      "Iteration 0 : loss = 2.2148497104644775\n",
      "Iteration 1 : loss = 2.3312249183654785\n",
      "Iteration 2 : loss = 2.245910167694092\n",
      "Iteration 3 : loss = 2.1576054096221924\n",
      "Iteration 4 : loss = 2.041360855102539\n",
      "Iteration 5 : loss = 2.035701036453247\n",
      "Iteration 6 : loss = 1.9770705699920654\n",
      "Iteration 7 : loss = 1.7502491474151611\n",
      "Iteration 8 : loss = 1.7246334552764893\n",
      "Iteration 9 : loss = 1.5338186025619507\n",
      "Iteration 10 : loss = 1.654736042022705\n",
      "Iteration 11 : loss = 1.6165482997894287\n",
      "Iteration 12 : loss = 1.5488801002502441\n",
      "Iteration 13 : loss = 1.5471186637878418\n",
      "Iteration 14 : loss = 1.4041765928268433\n",
      "Iteration 15 : loss = 1.3117499351501465\n",
      "Iteration 16 : loss = 1.5073537826538086\n",
      "Iteration 17 : loss = 1.2666707038879395\n",
      "Iteration 18 : loss = 1.431739330291748\n",
      "Iteration 19 : loss = 1.1525441408157349\n",
      "Iteration 20 : loss = 1.4438265562057495\n",
      "Iteration 21 : loss = 1.2740395069122314\n",
      "Iteration 22 : loss = 1.107022762298584\n",
      "Iteration 23 : loss = 1.2888743877410889\n",
      "Iteration 24 : loss = 1.186071753501892\n",
      "Iteration 25 : loss = 1.1147480010986328\n",
      "Iteration 26 : loss = 1.1106113195419312\n",
      "Iteration 27 : loss = 1.2294219732284546\n",
      "Iteration 28 : loss = 0.8474857807159424\n",
      "Iteration 29 : loss = 1.012247085571289\n",
      "Iteration 30 : loss = 0.9136039018630981\n",
      "Iteration 31 : loss = 1.0704784393310547\n",
      "Iteration 32 : loss = 0.8945426940917969\n",
      "Iteration 33 : loss = 0.99373459815979\n",
      "Iteration 34 : loss = 0.9426884651184082\n",
      "Iteration 35 : loss = 0.9581133127212524\n",
      "Iteration 36 : loss = 1.178609848022461\n",
      "Iteration 37 : loss = 1.0052396059036255\n",
      "Iteration 38 : loss = 0.8695878386497498\n",
      "Iteration 39 : loss = 0.8694231510162354\n",
      "Iteration 40 : loss = 0.6455603241920471\n",
      "Iteration 41 : loss = 1.1385610103607178\n",
      "Iteration 42 : loss = 1.0820385217666626\n",
      "Iteration 43 : loss = 0.7220219373703003\n",
      "Iteration 44 : loss = 1.078466534614563\n",
      "Iteration 45 : loss = 0.9507791996002197\n",
      "Iteration 46 : loss = 0.8868259787559509\n",
      "Iteration 47 : loss = 0.9134120941162109\n",
      "Iteration 48 : loss = 1.051673412322998\n",
      "Iteration 49 : loss = 0.9704575538635254\n",
      "Iteration 50 : loss = 0.749258279800415\n",
      "Iteration 51 : loss = 0.7836834192276001\n",
      "Iteration 52 : loss = 0.9680381417274475\n",
      "Iteration 53 : loss = 0.8372600078582764\n",
      "Iteration 54 : loss = 0.8746797442436218\n",
      "Iteration 55 : loss = 0.739657461643219\n",
      "Iteration 56 : loss = 0.8220152854919434\n",
      "Iteration 57 : loss = 0.5696638226509094\n",
      "Iteration 58 : loss = 0.85601806640625\n",
      "Iteration 59 : loss = 0.6314350962638855\n",
      "Iteration 60 : loss = 0.810275673866272\n",
      "Iteration 61 : loss = 0.6997523307800293\n",
      "Iteration 62 : loss = 0.55800861120224\n",
      "Iteration 63 : loss = 0.7783050537109375\n",
      "Iteration 64 : loss = 0.5615664720535278\n",
      "Iteration 65 : loss = 0.879224419593811\n",
      "Iteration 66 : loss = 0.7880463004112244\n",
      "Iteration 67 : loss = 0.7804474234580994\n",
      "Iteration 68 : loss = 0.7089530825614929\n",
      "Iteration 69 : loss = 0.614976167678833\n",
      "Iteration 70 : loss = 0.5050919055938721\n",
      "Iteration 71 : loss = 0.8179703950881958\n",
      "Iteration 72 : loss = 0.6227186918258667\n",
      "Iteration 73 : loss = 0.5281696319580078\n",
      "Iteration 74 : loss = 0.660524845123291\n",
      "Iteration 75 : loss = 0.5804451704025269\n",
      "Iteration 76 : loss = 0.7839882373809814\n",
      "Iteration 77 : loss = 0.5333734154701233\n",
      "Iteration 78 : loss = 0.6515951752662659\n",
      "Iteration 79 : loss = 0.7637251615524292\n",
      "Iteration 80 : loss = 0.518634557723999\n",
      "Iteration 81 : loss = 0.7933411598205566\n",
      "Iteration 82 : loss = 0.7851501703262329\n",
      "Iteration 83 : loss = 0.746422529220581\n",
      "Iteration 84 : loss = 0.6838165521621704\n",
      "Iteration 85 : loss = 0.7656973600387573\n",
      "Iteration 86 : loss = 0.7244685888290405\n",
      "Iteration 87 : loss = 0.9291776418685913\n",
      "Iteration 88 : loss = 0.8373744487762451\n",
      "Iteration 89 : loss = 0.6765227317810059\n",
      "Iteration 90 : loss = 0.6549890041351318\n",
      "Iteration 91 : loss = 0.673230767250061\n",
      "Iteration 92 : loss = 0.6178038120269775\n",
      "Iteration 93 : loss = 0.8053715825080872\n",
      "Iteration 94 : loss = 0.5567351579666138\n",
      "Iteration 95 : loss = 0.7819015383720398\n",
      "Iteration 96 : loss = 0.6255704164505005\n",
      "Iteration 97 : loss = 0.4597235918045044\n",
      "Iteration 98 : loss = 0.5372578501701355\n",
      "Iteration 99 : loss = 0.6606985330581665\n"
     ]
    }
   ],
   "source": [
    "epochs = 100\n",
    "for i in range(epochs):\n",
    "    # get a batch from mnist\n",
    "    images_i, labels_i = mnist_data.train.next_batch(32) # batch_size is 32\n",
    "    _, loss_value = sess.run([train_op, loss], feed_dict= {\n",
    "        x_ : images_i,\n",
    "        y_ : labels_i\n",
    "    })\n",
    "    print('Iteration {} : loss = {}'.format(i, loss_value))"
   ]
  },
  {
   "cell_type": "markdown",
   "metadata": {
    "deletable": true,
    "editable": true
   },
   "source": [
    "It would be nice to have a better measure of performance, that makes sense to us. \n",
    "How about accuracy?"
   ]
  },
  {
   "cell_type": "markdown",
   "metadata": {
    "deletable": true,
    "editable": true
   },
   "source": [
    "## Accuracy"
   ]
  },
  {
   "cell_type": "code",
   "execution_count": 59,
   "metadata": {
    "collapsed": false,
    "deletable": true,
    "editable": true
   },
   "outputs": [
    {
     "data": {
      "text/plain": [
       "<tf.Tensor 'ArgMax:0' shape=(?,) dtype=int64>"
      ]
     },
     "execution_count": 59,
     "metadata": {},
     "output_type": "execute_result"
    }
   ],
   "source": [
    "predictions"
   ]
  },
  {
   "cell_type": "code",
   "execution_count": 60,
   "metadata": {
    "collapsed": false,
    "deletable": true,
    "editable": true
   },
   "outputs": [
    {
     "data": {
      "text/plain": [
       "<tf.Tensor 'y:0' shape=(?,) dtype=int64>"
      ]
     },
     "execution_count": 60,
     "metadata": {},
     "output_type": "execute_result"
    }
   ],
   "source": [
    "y_"
   ]
  },
  {
   "cell_type": "code",
   "execution_count": 61,
   "metadata": {
    "collapsed": false,
    "deletable": true,
    "editable": true
   },
   "outputs": [],
   "source": [
    "# check if the labels match\n",
    "correct_prediction = tf.equal(predictions, y_)\n",
    "# calculate how many labels match, in a batch\n",
    "accuracy = tf.reduce_mean(tf.cast(correct_prediction, tf.float32))"
   ]
  },
  {
   "cell_type": "markdown",
   "metadata": {
    "deletable": true,
    "editable": true
   },
   "source": [
    "## Train Again"
   ]
  },
  {
   "cell_type": "code",
   "execution_count": 62,
   "metadata": {
    "collapsed": false,
    "deletable": true,
    "editable": true
   },
   "outputs": [
    {
     "name": "stdout",
     "output_type": "stream",
     "text": [
      "Iteration 0 : loss = 75.0%\n",
      "Iteration 1 : loss = 84.375%\n",
      "Iteration 2 : loss = 84.375%\n",
      "Iteration 3 : loss = 78.125%\n",
      "Iteration 4 : loss = 93.75%\n",
      "Iteration 5 : loss = 90.625%\n",
      "Iteration 6 : loss = 87.5%\n",
      "Iteration 7 : loss = 81.25%\n",
      "Iteration 8 : loss = 87.5%\n",
      "Iteration 9 : loss = 78.125%\n",
      "Iteration 10 : loss = 75.0%\n",
      "Iteration 11 : loss = 93.75%\n",
      "Iteration 12 : loss = 87.5%\n",
      "Iteration 13 : loss = 81.25%\n",
      "Iteration 14 : loss = 87.5%\n",
      "Iteration 15 : loss = 81.25%\n",
      "Iteration 16 : loss = 81.25%\n",
      "Iteration 17 : loss = 84.375%\n",
      "Iteration 18 : loss = 84.375%\n",
      "Iteration 19 : loss = 78.125%\n",
      "Iteration 20 : loss = 84.375%\n",
      "Iteration 21 : loss = 81.25%\n",
      "Iteration 22 : loss = 84.375%\n",
      "Iteration 23 : loss = 81.25%\n",
      "Iteration 24 : loss = 84.375%\n",
      "Iteration 25 : loss = 90.625%\n",
      "Iteration 26 : loss = 81.25%\n",
      "Iteration 27 : loss = 87.5%\n",
      "Iteration 28 : loss = 78.125%\n",
      "Iteration 29 : loss = 84.375%\n",
      "Iteration 30 : loss = 68.75%\n",
      "Iteration 31 : loss = 84.375%\n",
      "Iteration 32 : loss = 75.0%\n",
      "Iteration 33 : loss = 87.5%\n",
      "Iteration 34 : loss = 84.375%\n",
      "Iteration 35 : loss = 84.375%\n",
      "Iteration 36 : loss = 87.5%\n",
      "Iteration 37 : loss = 84.375%\n",
      "Iteration 38 : loss = 81.25%\n",
      "Iteration 39 : loss = 93.75%\n",
      "Iteration 40 : loss = 87.5%\n",
      "Iteration 41 : loss = 96.875%\n",
      "Iteration 42 : loss = 81.25%\n",
      "Iteration 43 : loss = 90.625%\n",
      "Iteration 44 : loss = 84.375%\n",
      "Iteration 45 : loss = 90.625%\n",
      "Iteration 46 : loss = 96.875%\n",
      "Iteration 47 : loss = 93.75%\n",
      "Iteration 48 : loss = 87.5%\n",
      "Iteration 49 : loss = 84.375%\n",
      "Iteration 50 : loss = 78.125%\n",
      "Iteration 51 : loss = 90.625%\n",
      "Iteration 52 : loss = 81.25%\n",
      "Iteration 53 : loss = 87.5%\n",
      "Iteration 54 : loss = 93.75%\n",
      "Iteration 55 : loss = 81.25%\n",
      "Iteration 56 : loss = 90.625%\n",
      "Iteration 57 : loss = 93.75%\n",
      "Iteration 58 : loss = 81.25%\n",
      "Iteration 59 : loss = 78.125%\n",
      "Iteration 60 : loss = 81.25%\n",
      "Iteration 61 : loss = 93.75%\n",
      "Iteration 62 : loss = 81.25%\n",
      "Iteration 63 : loss = 81.25%\n",
      "Iteration 64 : loss = 96.875%\n",
      "Iteration 65 : loss = 87.5%\n",
      "Iteration 66 : loss = 87.5%\n",
      "Iteration 67 : loss = 93.75%\n",
      "Iteration 68 : loss = 87.5%\n",
      "Iteration 69 : loss = 90.625%\n",
      "Iteration 70 : loss = 84.375%\n",
      "Iteration 71 : loss = 84.375%\n",
      "Iteration 72 : loss = 81.25%\n",
      "Iteration 73 : loss = 87.5%\n",
      "Iteration 74 : loss = 71.875%\n",
      "Iteration 75 : loss = 87.5%\n",
      "Iteration 76 : loss = 71.875%\n",
      "Iteration 77 : loss = 87.5%\n",
      "Iteration 78 : loss = 84.375%\n",
      "Iteration 79 : loss = 93.75%\n",
      "Iteration 80 : loss = 81.25%\n",
      "Iteration 81 : loss = 90.625%\n",
      "Iteration 82 : loss = 93.75%\n",
      "Iteration 83 : loss = 93.75%\n",
      "Iteration 84 : loss = 90.625%\n",
      "Iteration 85 : loss = 84.375%\n",
      "Iteration 86 : loss = 81.25%\n",
      "Iteration 87 : loss = 87.5%\n",
      "Iteration 88 : loss = 90.625%\n",
      "Iteration 89 : loss = 100.0%\n",
      "Iteration 90 : loss = 93.75%\n",
      "Iteration 91 : loss = 90.625%\n",
      "Iteration 92 : loss = 96.875%\n",
      "Iteration 93 : loss = 75.0%\n",
      "Iteration 94 : loss = 84.375%\n",
      "Iteration 95 : loss = 90.625%\n",
      "Iteration 96 : loss = 78.125%\n",
      "Iteration 97 : loss = 87.5%\n",
      "Iteration 98 : loss = 93.75%\n",
      "Iteration 99 : loss = 93.75%\n"
     ]
    }
   ],
   "source": [
    "epochs = 100\n",
    "for i in range(epochs):\n",
    "    # get a batch from mnist\n",
    "    images_i, labels_i = mnist_data.train.next_batch(32) # batch_size is 32\n",
    "    _, accuracy_value = sess.run([train_op, accuracy], feed_dict= {\n",
    "        x_ : images_i,\n",
    "        y_ : labels_i\n",
    "    })\n",
    "    print('Iteration {} : loss = {}%'.format(i, accuracy_value*100))"
   ]
  },
  {
   "cell_type": "markdown",
   "metadata": {
    "deletable": true,
    "editable": true
   },
   "source": [
    "## Train some more"
   ]
  },
  {
   "cell_type": "code",
   "execution_count": 63,
   "metadata": {
    "collapsed": true,
    "deletable": true,
    "editable": true
   },
   "outputs": [],
   "source": [
    "# recreate session\n",
    "#  just for fun\n",
    "sess = tf.InteractiveSession()\n",
    "sess.run(tf.global_variables_initializer())"
   ]
  },
  {
   "cell_type": "code",
   "execution_count": 64,
   "metadata": {
    "collapsed": false,
    "deletable": true,
    "editable": true
   },
   "outputs": [
    {
     "name": "stdout",
     "output_type": "stream",
     "text": [
      "Iteration 10000 : loss = 91.1175%\n",
      "Iteration 20000 : loss = 92.455%\n",
      "Iteration 30000 : loss = 92.691875%\n",
      "Iteration 40000 : loss = 92.89375%\n",
      "Iteration 50000 : loss = 93.005%\n",
      "Iteration 60000 : loss = 93.059375%\n",
      "Iteration 70000 : loss = 93.1340625%\n",
      "Iteration 80000 : loss = 93.1846875%\n",
      "Iteration 90000 : loss = 93.2225%\n"
     ]
    }
   ],
   "source": [
    "epochs = 100000 # 3 more zeros\n",
    "avg_acc = 0.\n",
    "for i in range(epochs):\n",
    "    # get a batch from mnist\n",
    "    images_i, labels_i = mnist_data.train.next_batch(32) # batch_size is 32\n",
    "    _, accuracy_value = sess.run([train_op, accuracy], feed_dict= {\n",
    "        x_ : images_i,\n",
    "        y_ : labels_i\n",
    "    })\n",
    "    avg_acc += accuracy_value\n",
    "    if i and i % 10000 == 0:\n",
    "        print('Iteration {} : loss = {}%'.format(i, (avg_acc*100)/10000 ))\n",
    "        avg_acc = 0."
   ]
  },
  {
   "cell_type": "markdown",
   "metadata": {
    "deletable": true,
    "editable": true
   },
   "source": [
    "That's great. But what did we miss?\n",
    "\n",
    "The accuracy is pretty decent on the training data. But does it guarantee the performance on some other data? How can we check that?\n",
    "\n",
    "- We train on training set and evaluate the accuracy on validation set."
   ]
  },
  {
   "cell_type": "markdown",
   "metadata": {
    "deletable": true,
    "editable": true
   },
   "source": [
    "## Validation"
   ]
  },
  {
   "cell_type": "code",
   "execution_count": 156,
   "metadata": {
    "collapsed": false,
    "deletable": true,
    "editable": true
   },
   "outputs": [
    {
     "name": "stdout",
     "output_type": "stream",
     "text": [
      "Iteration 10000 : accuracy = 90.970625%\n",
      "\t Validation accuracy : 91.11328125%\n",
      "Iteration 20000 : accuracy = 92.2784375%\n",
      "\t Validation accuracy : 93.26171875%\n",
      "Iteration 30000 : accuracy = 92.5553125%\n",
      "\t Validation accuracy : 93.9453125%\n",
      "Iteration 40000 : accuracy = 92.76125%\n",
      "\t Validation accuracy : 91.6015625%\n",
      "Iteration 50000 : accuracy = 92.8375%\n",
      "\t Validation accuracy : 91.89453125%\n",
      "Iteration 60000 : accuracy = 92.9315625%\n",
      "\t Validation accuracy : 92.3828125%\n",
      "Iteration 70000 : accuracy = 93.02875%\n",
      "\t Validation accuracy : 93.359375%\n",
      "Iteration 80000 : accuracy = 93.0653125%\n",
      "\t Validation accuracy : 93.06640625%\n",
      "Iteration 90000 : accuracy = 93.1296875%\n",
      "\t Validation accuracy : 92.7734375%\n"
     ]
    }
   ],
   "source": [
    "# recreate session\n",
    "#  just for fun\n",
    "sess = tf.InteractiveSession()\n",
    "sess.run(tf.global_variables_initializer())\n",
    "\n",
    "epochs = 100000 # 3 more zeros\n",
    "avg_acc = 0.\n",
    "for i in range(epochs):\n",
    "    # get a batch from mnist\n",
    "    images_train_i, labels_train_i = mnist_data.train.next_batch(32) # batch_size is 32\n",
    "    _, accuracy_value = sess.run([train_op, accuracy], feed_dict= {\n",
    "        x_ : images_train_i,\n",
    "        y_ : labels_train_i\n",
    "    })\n",
    "    avg_acc += accuracy_value\n",
    "    if i and i % 10000 == 0:\n",
    "        print('Iteration {} : accuracy = {}%'.format(i, (avg_acc*100)/10000 ))\n",
    "        avg_acc = 0.\n",
    "        # evaluation\n",
    "        #  get validation set\n",
    "        images_valid, labels_valid = mnist_data.validation.next_batch(1024)\n",
    "        valid_acc = sess.run(accuracy, feed_dict={\n",
    "            x_ : images_valid,\n",
    "            y_ : labels_valid\n",
    "        })\n",
    "        print('\\t Validation accuracy : {}%'.format(valid_acc*100))"
   ]
  },
  {
   "cell_type": "markdown",
   "metadata": {
    "deletable": true,
    "editable": true
   },
   "source": [
    "## Finally, "
   ]
  },
  {
   "cell_type": "code",
   "execution_count": 158,
   "metadata": {
    "collapsed": true,
    "deletable": true,
    "editable": true
   },
   "outputs": [],
   "source": [
    "image_n, label_n = mnist_data.test.next_batch(1)"
   ]
  },
  {
   "cell_type": "code",
   "execution_count": 159,
   "metadata": {
    "collapsed": false,
    "deletable": true,
    "editable": true
   },
   "outputs": [
    {
     "data": {
      "image/png": "[encoded data removed]",
      "text/plain": [
       "<matplotlib.figure.Figure at 0x7f6894c4acc0>"
      ]
     },
     "metadata": {},
     "output_type": "display_data"
    }
   ],
   "source": [
    "helper.show_mnist_image(plt, image_n[0])"
   ]
  },
  {
   "cell_type": "code",
   "execution_count": 160,
   "metadata": {
    "collapsed": false,
    "deletable": true,
    "editable": true
   },
   "outputs": [
    {
     "name": "stdout",
     "output_type": "stream",
     "text": [
      "(1,) [7]\n"
     ]
    }
   ],
   "source": [
    "print(label_n.shape, label_n)"
   ]
  },
  {
   "cell_type": "code",
   "execution_count": 165,
   "metadata": {
    "collapsed": false,
    "deletable": true,
    "editable": true
   },
   "outputs": [
    {
     "name": "stdout",
     "output_type": "stream",
     "text": [
      "Probability Distribution : \n",
      " [  2.08494066e-06   5.04711019e-13   3.76748085e-06   4.83460166e-03\n",
      "   1.71969873e-07   1.07542037e-05   3.63903976e-11   9.94486153e-01\n",
      "   2.43600298e-05   6.38132682e-04]\n",
      "Predicted Label : 7, with confidence of 99.4486153125763%\n"
     ]
    }
   ],
   "source": [
    "prob_values, predicted_label = sess.run([probs, predictions], feed_dict={\n",
    "    x_ : image_n\n",
    "})\n",
    "print('Probability Distribution : \\n', prob_values[0])\n",
    "print('Predicted Label : {}, with confidence of {}%'.\n",
    "      format(predicted_label[0], prob_values[0][predicted_label[0]]*100))"
   ]
  },
  {
   "cell_type": "markdown",
   "metadata": {
    "deletable": true,
    "editable": true
   },
   "source": [
    "Predicted Label : **7**, with confidence of **99.44%**"
   ]
  },
  {
   "cell_type": "markdown",
   "metadata": {
    "deletable": true,
    "editable": true
   },
   "source": [
    "\n"
   ]
  },
  {
   "cell_type": "markdown",
   "metadata": {
    "deletable": true,
    "editable": true
   },
   "source": [
    "\n"
   ]
  },
  {
   "cell_type": "markdown",
   "metadata": {
    "deletable": true,
    "editable": true
   },
   "source": [
    "\n"
   ]
  },
  {
   "cell_type": "markdown",
   "metadata": {
    "deletable": true,
    "editable": true
   },
   "source": [
    "\n"
   ]
  },
  {
   "cell_type": "markdown",
   "metadata": {
    "deletable": true,
    "editable": true
   },
   "source": [
    "\n"
   ]
  },
  {
   "cell_type": "markdown",
   "metadata": {
    "deletable": true,
    "editable": true
   },
   "source": [
    "\n"
   ]
  },
  {
   "cell_type": "markdown",
   "metadata": {
    "deletable": true,
    "editable": true
   },
   "source": [
    "# MIC DROP!"
   ]
  },
  {
   "cell_type": "markdown",
   "metadata": {
    "deletable": true,
    "editable": true
   },
   "source": [
    "\n"
   ]
  },
  {
   "cell_type": "markdown",
   "metadata": {
    "deletable": true,
    "editable": true
   },
   "source": [
    "\n"
   ]
  },
  {
   "cell_type": "markdown",
   "metadata": {
    "deletable": true,
    "editable": true
   },
   "source": [
    "\n"
   ]
  },
  {
   "cell_type": "markdown",
   "metadata": {
    "deletable": true,
    "editable": true
   },
   "source": [
    "\n"
   ]
  },
  {
   "cell_type": "markdown",
   "metadata": {
    "deletable": true,
    "editable": true
   },
   "source": [
    "\n"
   ]
  },
  {
   "cell_type": "markdown",
   "metadata": {
    "deletable": true,
    "editable": true
   },
   "source": [
    "\n"
   ]
  },
  {
   "cell_type": "markdown",
   "metadata": {
    "deletable": true,
    "editable": true
   },
   "source": [
    "\n"
   ]
  },
  {
   "cell_type": "markdown",
   "metadata": {
    "deletable": true,
    "editable": true
   },
   "source": [
    "\n"
   ]
  },
  {
   "cell_type": "markdown",
   "metadata": {
    "deletable": true,
    "editable": true
   },
   "source": [
    "**Wait! Why do we have to settle for 93% accuracy?**\n",
    "\n",
    "We don't have to."
   ]
  },
  {
   "cell_type": "markdown",
   "metadata": {
    "deletable": true,
    "editable": true
   },
   "source": [
    "## We need to go deeper!"
   ]
  },
  {
   "cell_type": "markdown",
   "metadata": {
    "deletable": true,
    "editable": true
   },
   "source": [
    "![](deeper.jpg)"
   ]
  },
  {
   "cell_type": "markdown",
   "metadata": {
    "deletable": true,
    "editable": true
   },
   "source": [
    "$$\n",
    "Hidden\\ Layer\\ 1,\\ h_1 = W_1x + b_1\\\\\n",
    "logits = W_2h_1 + b_2\\\\\n",
    "probs = softmax(logits)\\\\\n",
    "label = argmax(probs)\n",
    "$$"
   ]
  },
  {
   "cell_type": "markdown",
   "metadata": {
    "deletable": true,
    "editable": true
   },
   "source": [
    "## Back to the Graph!"
   ]
  },
  {
   "cell_type": "code",
   "execution_count": 45,
   "metadata": {
    "collapsed": true,
    "deletable": true,
    "editable": true
   },
   "outputs": [],
   "source": [
    "tf.reset_default_graph()\n",
    "# placeholders\n",
    "x_ = tf.placeholder(name='x', dtype=tf.float32, shape=[None, None])\n",
    "y_ = tf.placeholder(name='y', dtype=tf.int64, shape=[None, ])\n",
    "# parameters\n",
    "#  define initalizer\n",
    "xav = tf.contrib.layers.xavier_initializer"
   ]
  },
  {
   "cell_type": "markdown",
   "metadata": {
    "deletable": true,
    "editable": true
   },
   "source": [
    "## Layer 1"
   ]
  },
  {
   "cell_type": "code",
   "execution_count": 46,
   "metadata": {
    "collapsed": true,
    "deletable": true,
    "editable": true
   },
   "outputs": [],
   "source": [
    "W1 = tf.get_variable(name='W1', shape=[784, 1000], dtype=tf.float32,\n",
    "                    initializer= xav())\n",
    "b1 = tf.get_variable(name='b1', shape=[1000], dtype=tf.float32,\n",
    "                    initializer=tf.constant_initializer(0.))\n",
    "# operation\n",
    "h1 = tf.nn.relu(tf.matmul(x_, W1) + b1)"
   ]
  },
  {
   "cell_type": "markdown",
   "metadata": {
    "deletable": true,
    "editable": true
   },
   "source": [
    "## Layer 2"
   ]
  },
  {
   "cell_type": "code",
   "execution_count": 47,
   "metadata": {
    "collapsed": true,
    "deletable": true,
    "editable": true
   },
   "outputs": [],
   "source": [
    "W2 = tf.get_variable(name='W2', shape=[1000, 10], dtype=tf.float32,\n",
    "                    initializer= xav())\n",
    "b2 = tf.zeros(name='b2', shape=[10], dtype=tf.float32,\n",
    "                    initializer=tf.constant_initializer(0.))\n",
    "logits = tf.nn.relu(tf.matmul(h1, W2) + b2)"
   ]
  },
  {
   "cell_type": "markdown",
   "metadata": {
    "deletable": true,
    "editable": true
   },
   "source": [
    "## Training Operation"
   ]
  },
  {
   "cell_type": "code",
   "execution_count": 48,
   "metadata": {
    "collapsed": true,
    "deletable": true,
    "editable": true
   },
   "outputs": [],
   "source": [
    "probs = tf.nn.softmax(logits)\n",
    "predictions = tf.argmax(probs, axis=1)\n",
    "correct_predictions = tf.equal(predictions, y_)\n",
    "accuracy = tf.reduce_mean(tf.cast(correct_predictions, tf.float32))\n",
    "batch_loss = tf.nn.sparse_softmax_cross_entropy_with_logits(logits=logits, \n",
    "                                                      labels=y_)\n",
    "loss = tf.reduce_mean(batch_loss)\n",
    "optimizer = tf.train.GradientDescentOptimizer(learning_rate=0.1)\n",
    "train_op = optimizer.minimize(loss)"
   ]
  },
  {
   "cell_type": "markdown",
   "metadata": {
    "deletable": true,
    "editable": true
   },
   "source": [
    "## Begin Training"
   ]
  },
  {
   "cell_type": "code",
   "execution_count": null,
   "metadata": {
    "collapsed": false,
    "deletable": true,
    "editable": true
   },
   "outputs": [],
   "source": [
    "# recreate session\n",
    "#  just for fun\n",
    "sess = tf.InteractiveSession()\n",
    "sess.run(tf.global_variables_initializer())\n",
    "\n",
    "epochs = 300000 # 3 more zeros\n",
    "avg_acc = 0.\n",
    "for i in range(epochs):\n",
    "    # get a batch from mnist\n",
    "    images_train_i, labels_train_i = mnist_data.train.next_batch(32) # batch_size is 32\n",
    "    _, accuracy_value = sess.run([train_op, accuracy], feed_dict= {\n",
    "        x_ : images_train_i,\n",
    "        y_ : labels_train_i\n",
    "    })\n",
    "    avg_acc += accuracy_value\n",
    "    if i and i % 10000 == 0:\n",
    "        print('Iteration {} : accuracy = {}%'.format(i, (avg_acc*100)/10000 ))\n",
    "        avg_acc = 0.\n",
    "        # evaluation\n",
    "        #  get validation set\n",
    "        images_valid, labels_valid = mnist_data.validation.next_batch(1024)\n",
    "        valid_acc = sess.run(accuracy, feed_dict={\n",
    "            x_ : images_valid,\n",
    "            y_ : labels_valid\n",
    "        })\n",
    "        print('\\t Validation accuracy : {}%'.format(valid_acc*100))"
   ]
  },
  {
   "cell_type": "code",
   "execution_count": null,
   "metadata": {
    "collapsed": true,
    "deletable": true,
    "editable": true
   },
   "outputs": [],
   "source": []
  },
  {
   "cell_type": "code",
   "execution_count": null,
   "metadata": {
    "collapsed": true,
    "deletable": true,
    "editable": true
   },
   "outputs": [],
   "source": []
  },
  {
   "cell_type": "code",
   "execution_count": null,
   "metadata": {
    "collapsed": true,
    "deletable": true,
    "editable": true
   },
   "outputs": [],
   "source": []
  }
 ],
 "metadata": {
  "kernelspec": {
   "display_name": "basic",
   "language": "python",
   "name": "basic"
  },
  "language_info": {
   "codemirror_mode": {
    "name": "ipython",
    "version": 3
   },
   "file_extension": ".py",
   "mimetype": "text/x-python",
   "name": "python",
   "nbconvert_exporter": "python",
   "pygments_lexer": "ipython3",
   "version": "3.5.2"
  }
 },
 "nbformat": 4,
 "nbformat_minor": 2
}
