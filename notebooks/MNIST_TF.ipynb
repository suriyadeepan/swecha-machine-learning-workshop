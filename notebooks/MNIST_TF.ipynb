{
 "cells": [
  {
   "cell_type": "markdown",
   "metadata": {},
   "source": [
    "## IMPORTS"
   ]
  },
  {
   "cell_type": "code",
   "execution_count": 2,
   "metadata": {
    "collapsed": true
   },
   "outputs": [],
   "source": [
    "import tensorflow as tf\n",
    "from tensorflow.examples.tutorials.mnist import input_data"
   ]
  },
  {
   "cell_type": "markdown",
   "metadata": {},
   "source": [
    "Wait. What are we importing?\n",
    "\n",
    "1. [**tensorflow**](https://www.tensorflow.org/) : google's machine learning framework (*numerical computation using data flow graphs*)\n",
    "2. [**mnist**](http://yann.lecun.com/exdb/mnist/) : large database of *labeled* handwritten digits"
   ]
  },
  {
   "cell_type": "code",
   "execution_count": 41,
   "metadata": {
    "collapsed": false
   },
   "outputs": [
    {
     "data": {
      "text/plain": [
       "<module 'helper' from '/home/suriya/Documents/slides/notebooks/helper.py'>"
      ]
     },
     "execution_count": 41,
     "metadata": {},
     "output_type": "execute_result"
    }
   ],
   "source": [
    "from matplotlib import pyplot as plt\n",
    "%matplotlib inline\n",
    "plt.style.use('ggplot')\n",
    "import helper\n",
    "import importlib\n",
    "importlib.reload(helper)"
   ]
  },
  {
   "cell_type": "markdown",
   "metadata": {},
   "source": [
    "## DATA"
   ]
  },
  {
   "cell_type": "code",
   "execution_count": 6,
   "metadata": {
    "collapsed": false
   },
   "outputs": [
    {
     "name": "stdout",
     "output_type": "stream",
     "text": [
      "Successfully downloaded train-images-idx3-ubyte.gz 9912422 bytes.\n",
      "Extracting data/train-images-idx3-ubyte.gz\n",
      "Successfully downloaded train-labels-idx1-ubyte.gz 28881 bytes.\n",
      "Extracting data/train-labels-idx1-ubyte.gz\n",
      "Successfully downloaded t10k-images-idx3-ubyte.gz 1648877 bytes.\n",
      "Extracting data/t10k-images-idx3-ubyte.gz\n",
      "Successfully downloaded t10k-labels-idx1-ubyte.gz 4542 bytes.\n",
      "Extracting data/t10k-labels-idx1-ubyte.gz\n"
     ]
    }
   ],
   "source": [
    "mnist_data = input_data.read_data_sets(\"data/\")"
   ]
  },
  {
   "cell_type": "code",
   "execution_count": 12,
   "metadata": {
    "collapsed": false
   },
   "outputs": [],
   "source": [
    "batch_n = mnist_data.train.next_batch(batch_size=8)"
   ]
  },
  {
   "cell_type": "code",
   "execution_count": 13,
   "metadata": {
    "collapsed": false
   },
   "outputs": [
    {
     "data": {
      "text/plain": [
       "tuple"
      ]
     },
     "execution_count": 13,
     "metadata": {},
     "output_type": "execute_result"
    }
   ],
   "source": [
    "type(batch_n)"
   ]
  },
  {
   "cell_type": "code",
   "execution_count": 14,
   "metadata": {
    "collapsed": false
   },
   "outputs": [
    {
     "data": {
      "text/plain": [
       "(array([[ 0.,  0.,  0., ...,  0.,  0.,  0.],\n",
       "        [ 0.,  0.,  0., ...,  0.,  0.,  0.],\n",
       "        [ 0.,  0.,  0., ...,  0.,  0.,  0.],\n",
       "        ..., \n",
       "        [ 0.,  0.,  0., ...,  0.,  0.,  0.],\n",
       "        [ 0.,  0.,  0., ...,  0.,  0.,  0.],\n",
       "        [ 0.,  0.,  0., ...,  0.,  0.,  0.]], dtype=float32),\n",
       " array([7, 3, 4, 6, 1, 8, 1, 0], dtype=uint8))"
      ]
     },
     "execution_count": 14,
     "metadata": {},
     "output_type": "execute_result"
    }
   ],
   "source": [
    "batch_n"
   ]
  },
  {
   "cell_type": "code",
   "execution_count": 15,
   "metadata": {
    "collapsed": false
   },
   "outputs": [
    {
     "data": {
      "text/plain": [
       "((8, 784), (8,))"
      ]
     },
     "execution_count": 15,
     "metadata": {},
     "output_type": "execute_result"
    }
   ],
   "source": [
    "batch_n[0].shape, batch_n[1].shape"
   ]
  },
  {
   "cell_type": "markdown",
   "metadata": {},
   "source": [
    "## Structure of data"
   ]
  },
  {
   "cell_type": "markdown",
   "metadata": {},
   "source": [
    "- **(8,784)** : batch size (8), data dimension (784)\n",
    "    - **784** = 28 * 28   \n",
    "- **(8,)** : scalar label"
   ]
  },
  {
   "cell_type": "markdown",
   "metadata": {},
   "source": [
    "### Access through index"
   ]
  },
  {
   "cell_type": "code",
   "execution_count": 31,
   "metadata": {
    "collapsed": false
   },
   "outputs": [
    {
     "name": "stdout",
     "output_type": "stream",
     "text": [
      "<class 'tuple'>\n",
      "(8, 784) <class 'numpy.ndarray'>\n",
      "(784,) <class 'numpy.ndarray'>\n"
     ]
    }
   ],
   "source": [
    "print(type(batch_n))\n",
    "print(batch_n[0].shape, type(batch_n[0]))\n",
    "print(batch_n[0][0].shape, type(batch_n[0][0]))"
   ]
  },
  {
   "cell_type": "code",
   "execution_count": null,
   "metadata": {
    "collapsed": true
   },
   "outputs": [],
   "source": [
    "image_0 = batch_n[0][0]\n",
    "print(type(image_0))\n",
    "print(image_0.shape)"
   ]
  },
  {
   "cell_type": "code",
   "execution_count": 25,
   "metadata": {
    "collapsed": false
   },
   "outputs": [
    {
     "data": {
      "image/png": "[encoded data removed]",
      "text/plain": [
       "<matplotlib.figure.Figure at 0x7f6894f2f240>"
      ]
     },
     "metadata": {},
     "output_type": "display_data"
    }
   ],
   "source": [
    "helper.show_mnist_image(plt, batch_n[0][0])"
   ]
  },
  {
   "cell_type": "code",
   "execution_count": 27,
   "metadata": {
    "collapsed": false
   },
   "outputs": [
    {
     "data": {
      "image/png": "[encoded data removed]",
      "text/plain": [
       "<matplotlib.figure.Figure at 0x7f6895152198>"
      ]
     },
     "metadata": {},
     "output_type": "display_data"
    }
   ],
   "source": [
    "helper.show_mnist_image(plt, batch_n[0][0], cmap='gray')"
   ]
  },
  {
   "cell_type": "markdown",
   "metadata": {},
   "source": [
    "## Is that a 3 or a 7?"
   ]
  },
  {
   "cell_type": "code",
   "execution_count": 35,
   "metadata": {
    "collapsed": false
   },
   "outputs": [
    {
     "name": "stdout",
     "output_type": "stream",
     "text": [
      "7\n"
     ]
    }
   ],
   "source": [
    "label_0 = batch_n[1][0]\n",
    "print(label_0)"
   ]
  },
  {
   "cell_type": "markdown",
   "metadata": {},
   "source": [
    "## Can we display the whole batch?"
   ]
  },
  {
   "cell_type": "code",
   "execution_count": 44,
   "metadata": {
    "collapsed": false
   },
   "outputs": [
    {
     "data": {
      "image/png": "[encoded data removed]",
      "text/plain": [
       "<matplotlib.figure.Figure at 0x7f68949741d0>"
      ]
     },
     "metadata": {},
     "output_type": "display_data"
    },
    {
     "data": {
      "image/png": "[encoded data removed]",
      "text/plain": [
       "<matplotlib.figure.Figure at 0x7f689493da20>"
      ]
     },
     "metadata": {},
     "output_type": "display_data"
    },
    {
     "data": {
      "image/png": "[encoded data removed]",
      "text/plain": [
       "<matplotlib.figure.Figure at 0x7f689490ef98>"
      ]
     },
     "metadata": {},
     "output_type": "display_data"
    },
    {
     "data": {
      "image/png": "[encoded data removed]",
      "text/plain": [
       "<matplotlib.figure.Figure at 0x7f68948584e0>"
      ]
     },
     "metadata": {},
     "output_type": "display_data"
    },
    {
     "data": {
      "image/png": "[encoded data removed]",
      "text/plain": [
       "<matplotlib.figure.Figure at 0x7f689482b898>"
      ]
     },
     "metadata": {},
     "output_type": "display_data"
    },
    {
     "data": {
      "image/png": "[encoded data removed]",
      "text/plain": [
       "<matplotlib.figure.Figure at 0x7f68947f4cf8>"
      ]
     },
     "metadata": {},
     "output_type": "display_data"
    },
    {
     "data": {
      "image/png": "[encoded data removed]",
      "text/plain": [
       "<matplotlib.figure.Figure at 0x7f68947c6ef0>"
      ]
     },
     "metadata": {},
     "output_type": "display_data"
    },
    {
     "data": {
      "image/png": "[encoded data removed]",
      "text/plain": [
       "<matplotlib.figure.Figure at 0x7f68949c7f60>"
      ]
     },
     "metadata": {},
     "output_type": "display_data"
    }
   ],
   "source": [
    "batch_images, batch_labels = batch_n[0], batch_n[1]\n",
    "helper.show_mnist_image_multi(plt, batch_images)"
   ]
  },
  {
   "cell_type": "markdown",
   "metadata": {},
   "source": [
    "## GRAPH"
   ]
  },
  {
   "cell_type": "markdown",
   "metadata": {},
   "source": [
    "- **What is a graph?**\n",
    "\n",
    "A computational graph or data-flow graph or simply, a graph, in tensorflow, is a network of interconnected nodes. A node represents an unique mathematical operation. The edges represent the multidimensional data arrays (tensors) passed through the nodes. The nodes perform transformations on the tensors being passed around.\n",
    "\n",
    "- **Node**\n",
    "\n",
    "Think of arithmetic operations like sum, product, etc,. When working on tensors, we perform linear algebraic operations, matrix multiplication (dot product), matrix/tensor tranformations, like transpose, reshape, etc,. \n",
    "\n",
    "- **Edge**\n",
    "\n",
    "Tensors are multidimensional arrays, which have two significant properties : shape, value. The shape defines the container and value defines the data contained. Where do the tensors come from? From the dataset, in this case, MNIST images and labels. As an image of a digit flows through the graph, it gets transformed - streched, twisted, .., to yield us what we need. Which in this case, is the correct label (0-9). \n",
    "\n",
    "Ultimately, we can think of the graph that we are gonna define, as a mapping from image (of a digit) to the label. A non-linear function that maps a vector of shape (784,) to a scalar (0-9). "
   ]
  },
  {
   "cell_type": "markdown",
   "metadata": {},
   "source": [
    "## Building a graph in tensorflow"
   ]
  },
  {
   "cell_type": "code",
   "execution_count": 45,
   "metadata": {
    "collapsed": true
   },
   "outputs": [],
   "source": [
    "# clear default graph\n",
    "tf.reset_default_graph()"
   ]
  },
  {
   "cell_type": "markdown",
   "metadata": {},
   "source": [
    "### How to see the graph?"
   ]
  },
  {
   "cell_type": "code",
   "execution_count": 48,
   "metadata": {
    "collapsed": false
   },
   "outputs": [],
   "source": [
    "graph_ = tf.get_default_graph()\n",
    "graph_.get_operations()"
   ]
  },
  {
   "cell_type": "markdown",
   "metadata": {},
   "source": [
    "We have defined any operations yet. Let's do that now"
   ]
  },
  {
   "cell_type": "code",
   "execution_count": 52,
   "metadata": {
    "collapsed": true
   },
   "outputs": [],
   "source": [
    "a = tf.placeholder(tf.float32) # scalar\n",
    "b = tf.placeholder(tf.float32)\n",
    "c = a*b # scalar multiplication"
   ]
  },
  {
   "cell_type": "code",
   "execution_count": 54,
   "metadata": {
    "collapsed": false
   },
   "outputs": [
    {
     "data": {
      "text/plain": [
       "[<tf.Operation 'Placeholder' type=Placeholder>,\n",
       " <tf.Operation 'Placeholder_1' type=Placeholder>,\n",
       " <tf.Operation 'mul' type=Mul>]"
      ]
     },
     "execution_count": 54,
     "metadata": {},
     "output_type": "execute_result"
    }
   ],
   "source": [
    "tf.get_default_graph().get_operations()"
   ]
  },
  {
   "cell_type": "markdown",
   "metadata": {},
   "source": [
    "Let's give them names."
   ]
  },
  {
   "cell_type": "code",
   "execution_count": 55,
   "metadata": {
    "collapsed": true
   },
   "outputs": [],
   "source": [
    "# what do we do first?\n",
    "#  clear the graph\n",
    "tf.reset_default_graph()\n",
    "a = tf.placeholder(tf.float32, name='a') # scalar\n",
    "b = tf.placeholder(tf.float32, name='b')\n",
    "c = a*b # scalar multiplication"
   ]
  },
  {
   "cell_type": "code",
   "execution_count": 58,
   "metadata": {
    "collapsed": false
   },
   "outputs": [
    {
     "data": {
      "text/plain": [
       "[<tf.Operation 'a' type=Placeholder>,\n",
       " <tf.Operation 'b' type=Placeholder>,\n",
       " <tf.Operation 'mul' type=Mul>]"
      ]
     },
     "execution_count": 58,
     "metadata": {},
     "output_type": "execute_result"
    }
   ],
   "source": [
    "tf.get_default_graph().get_operations()"
   ]
  },
  {
   "cell_type": "markdown",
   "metadata": {},
   "source": [
    "## How to use the graph?"
   ]
  },
  {
   "cell_type": "markdown",
   "metadata": {},
   "source": [
    "1. Get your data ready\n",
    "2. Start a tensorflow session : `tf.InteractiveSession()`\n",
    "3. Execute graph using session variable\n",
    "    - Feed data through `feed_dict`\n",
    "    - fetch response from graph"
   ]
  },
  {
   "cell_type": "markdown",
   "metadata": {},
   "source": [
    "**[1]**"
   ]
  },
  {
   "cell_type": "code",
   "execution_count": 61,
   "metadata": {
    "collapsed": true
   },
   "outputs": [],
   "source": [
    "data_a = 69\n",
    "data_b = 0.2"
   ]
  },
  {
   "cell_type": "markdown",
   "metadata": {},
   "source": [
    "**[2]**"
   ]
  },
  {
   "cell_type": "code",
   "execution_count": 59,
   "metadata": {
    "collapsed": true
   },
   "outputs": [],
   "source": [
    "sess = tf.InteractiveSession()"
   ]
  },
  {
   "cell_type": "markdown",
   "metadata": {},
   "source": [
    "**[3], [4]**"
   ]
  },
  {
   "cell_type": "code",
   "execution_count": 62,
   "metadata": {
    "collapsed": false
   },
   "outputs": [],
   "source": [
    "response = sess.run(c, feed_dict = {\n",
    "    a : data_a,\n",
    "    b : data_b\n",
    "})"
   ]
  },
  {
   "cell_type": "code",
   "execution_count": 63,
   "metadata": {
    "collapsed": false
   },
   "outputs": [
    {
     "data": {
      "text/plain": [
       "13.8"
      ]
     },
     "execution_count": 63,
     "metadata": {},
     "output_type": "execute_result"
    }
   ],
   "source": [
    "response"
   ]
  },
  {
   "cell_type": "markdown",
   "metadata": {},
   "source": [
    "## Can we get back to the problem now?"
   ]
  },
  {
   "cell_type": "markdown",
   "metadata": {},
   "source": [
    "What were we doing though?\n",
    "\n",
    "We were trying to build a graph that will output the correct label (0-9) \n",
    "given an image of a digit. We have the data ready. **[1]** is done!\n",
    "\n",
    "Let's build the graph."
   ]
  },
  {
   "cell_type": "markdown",
   "metadata": {},
   "source": [
    "## Regression"
   ]
  },
  {
   "cell_type": "markdown",
   "metadata": {},
   "source": [
    "**The what now?**\n",
    "\n",
    "$$\n",
    "logits = Wx + b\\\\\n",
    "probs = softmax(logits)\\\\\n",
    "label, \\hat{y} = argmax(probs)\\\\\n",
    "$$\n",
    "\n",
    "**What is happening?**\n",
    "\n",
    "Regression is a single-layer affine transformation. In the equation above, $logits=Wx + b$ refers to the regression part. What comes after, is the classification part. Let's travel backward.\n",
    "\n",
    "- $ \\hat{y} $ : label, whose value ranges from (0-9)\n",
    "- $ probs $ : an array of length `10`, containing probabilities; scalars which range from 0 to 1. The value at index `0` in the array, represents the probability of the image being a `0`.\n",
    "- $ logits $ : very similar to the `probs`, but `logits` contains the raw scores or unnormalized probabilities of the image being each of the label.\n",
    "\n",
    "*Does that make sense?*"
   ]
  },
  {
   "cell_type": "markdown",
   "metadata": {},
   "source": [
    "## A Graph for Regression"
   ]
  },
  {
   "cell_type": "code",
   "execution_count": 70,
   "metadata": {
    "collapsed": true
   },
   "outputs": [],
   "source": [
    "# clear the graph\n",
    "tf.reset_default_graph()"
   ]
  },
  {
   "cell_type": "markdown",
   "metadata": {},
   "source": [
    "Let's create placeholders. I have a convention for placeholders. I end them with `_`. What? you have a better idea?"
   ]
  },
  {
   "cell_type": "markdown",
   "metadata": {},
   "source": [
    "- define batch_size"
   ]
  },
  {
   "cell_type": "code",
   "execution_count": 68,
   "metadata": {
    "collapsed": true
   },
   "outputs": [],
   "source": [
    "batch_size = 32"
   ]
  },
  {
   "cell_type": "code",
   "execution_count": 71,
   "metadata": {
    "collapsed": false
   },
   "outputs": [],
   "source": [
    "x_ = tf.placeholder(shape=[batch_size, 784], dtype=tf.float32, name='x')\n",
    "y_ = tf.placeholder(shape=[batch_size, ], dtype=tf.int32, name='y')"
   ]
  },
  {
   "cell_type": "code",
   "execution_count": 74,
   "metadata": {
    "collapsed": false
   },
   "outputs": [
    {
     "name": "stdout",
     "output_type": "stream",
     "text": [
      "Tensor(\"x:0\", shape=(32, 784), dtype=float32)\n",
      "Tensor(\"y:0\", shape=(32,), dtype=int32)\n"
     ]
    }
   ],
   "source": [
    "print(x_)\n",
    "print(y_)"
   ]
  },
  {
   "cell_type": "markdown",
   "metadata": {},
   "source": [
    "## Do we need a batch_size?"
   ]
  },
  {
   "cell_type": "code",
   "execution_count": 123,
   "metadata": {
    "collapsed": true
   },
   "outputs": [],
   "source": [
    "# not really\n",
    "tf.reset_default_graph()\n",
    "x_ = tf.placeholder(shape=[None, None], dtype=tf.float32, name='x')\n",
    "y_ = tf.placeholder(shape=[None, ], dtype=tf.int64, name='y')"
   ]
  },
  {
   "cell_type": "code",
   "execution_count": 124,
   "metadata": {
    "collapsed": false
   },
   "outputs": [
    {
     "name": "stdout",
     "output_type": "stream",
     "text": [
      "Tensor(\"x:0\", shape=(?, ?), dtype=float32)\n",
      "Tensor(\"y:0\", shape=(?,), dtype=int64)\n"
     ]
    }
   ],
   "source": [
    "print(x_)\n",
    "print(y_)"
   ]
  },
  {
   "cell_type": "markdown",
   "metadata": {},
   "source": [
    "> I think it's nice to have a little mystery."
   ]
  },
  {
   "cell_type": "markdown",
   "metadata": {},
   "source": [
    "## Parameters"
   ]
  },
  {
   "cell_type": "code",
   "execution_count": 125,
   "metadata": {
    "collapsed": false
   },
   "outputs": [],
   "source": [
    "W = tf.get_variable(name='W', shape=[784, 10], dtype=tf.float32,\n",
    "                initializer=tf.contrib.layers.xavier_initializer())\n",
    "b = tf.zeros(name='b', shape=[10], dtype=tf.float32)"
   ]
  },
  {
   "cell_type": "markdown",
   "metadata": {},
   "source": [
    "- **W, b** are the parameters of the model\n",
    "- **W** : weight \n",
    "- **b** : bias"
   ]
  },
  {
   "cell_type": "markdown",
   "metadata": {},
   "source": [
    "## Operations"
   ]
  },
  {
   "cell_type": "markdown",
   "metadata": {},
   "source": [
    "1. logits (matmul/dot product)\n",
    "2. probabilities (softmax)\n",
    "3. label (argmax)"
   ]
  },
  {
   "cell_type": "markdown",
   "metadata": {},
   "source": [
    "**[1]**"
   ]
  },
  {
   "cell_type": "code",
   "execution_count": 126,
   "metadata": {
    "collapsed": true
   },
   "outputs": [],
   "source": [
    "# affine transformation\n",
    "logits = tf.matmul(x_, W) + b"
   ]
  },
  {
   "cell_type": "markdown",
   "metadata": {},
   "source": [
    "**[2]**"
   ]
  },
  {
   "cell_type": "code",
   "execution_count": 127,
   "metadata": {
    "collapsed": true
   },
   "outputs": [],
   "source": [
    "probs = tf.nn.softmax(logits)"
   ]
  },
  {
   "cell_type": "markdown",
   "metadata": {},
   "source": [
    "**[3]**"
   ]
  },
  {
   "cell_type": "code",
   "execution_count": 128,
   "metadata": {
    "collapsed": true
   },
   "outputs": [],
   "source": [
    "predictions = tf.argmax(probs, axis=1)"
   ]
  },
  {
   "cell_type": "markdown",
   "metadata": {},
   "source": [
    "That's it. We are done with the minimal sub-graph that is required for **forward propagation**. Let's try to execute it."
   ]
  },
  {
   "cell_type": "markdown",
   "metadata": {},
   "source": [
    "## Forward Propagation"
   ]
  },
  {
   "cell_type": "markdown",
   "metadata": {},
   "source": [
    "1. Get your data ready\n",
    "2. Start a tensorflow session : `tf.InteractiveSession()`\n",
    "3. Execute graph using session variable\n",
    "    - Feed data through `feed_dict`\n",
    "    - fetch response from graph"
   ]
  },
  {
   "cell_type": "code",
   "execution_count": 129,
   "metadata": {
    "collapsed": false
   },
   "outputs": [],
   "source": [
    "images_n, labels_n = batch_n[0], batch_n[1]"
   ]
  },
  {
   "cell_type": "markdown",
   "metadata": {},
   "source": [
    "### Sanity check"
   ]
  },
  {
   "cell_type": "code",
   "execution_count": 130,
   "metadata": {
    "collapsed": false
   },
   "outputs": [
    {
     "name": "stdout",
     "output_type": "stream",
     "text": [
      "(8, 784) (8,)\n",
      "labels :  [7 3 4 6 1 8 1 0]\n"
     ]
    }
   ],
   "source": [
    "print(images_n.shape, labels_n.shape)\n",
    "print('labels : ', labels_n)"
   ]
  },
  {
   "cell_type": "code",
   "execution_count": 131,
   "metadata": {
    "collapsed": false
   },
   "outputs": [
    {
     "data": {
      "image/png": "[encoded data removed]",
      "text/plain": [
       "<matplotlib.figure.Figure at 0x7f6894e51828>"
      ]
     },
     "metadata": {},
     "output_type": "display_data"
    }
   ],
   "source": [
    "helper.show_mnist_image(plt, images_n[-1])"
   ]
  },
  {
   "cell_type": "markdown",
   "metadata": {},
   "source": [
    "### Execute graph"
   ]
  },
  {
   "cell_type": "code",
   "execution_count": 132,
   "metadata": {
    "collapsed": true
   },
   "outputs": [],
   "source": [
    "# create session\n",
    "sess = tf.InteractiveSession()"
   ]
  },
  {
   "cell_type": "markdown",
   "metadata": {},
   "source": [
    "Whenever we are using parameters in our model, that need to initialized,\n",
    "run `tf.global_variables_initializer()` in session."
   ]
  },
  {
   "cell_type": "code",
   "execution_count": 133,
   "metadata": {
    "collapsed": true
   },
   "outputs": [],
   "source": [
    "init_op = tf.global_variables_initializer()\n",
    "sess.run(init_op)"
   ]
  },
  {
   "cell_type": "code",
   "execution_count": 134,
   "metadata": {
    "collapsed": false
   },
   "outputs": [],
   "source": [
    "predicted_labels = sess.run(predictions, feed_dict= {\n",
    "    x_ : images_n,\n",
    "    y_ : labels_n\n",
    "})"
   ]
  },
  {
   "cell_type": "code",
   "execution_count": 135,
   "metadata": {
    "collapsed": false
   },
   "outputs": [
    {
     "data": {
      "text/plain": [
       "array([5, 3, 5, 2, 5, 3, 2, 5])"
      ]
     },
     "execution_count": 135,
     "metadata": {},
     "output_type": "execute_result"
    }
   ],
   "source": [
    "predicted_labels"
   ]
  },
  {
   "cell_type": "code",
   "execution_count": 136,
   "metadata": {
    "collapsed": false
   },
   "outputs": [
    {
     "data": {
      "text/plain": [
       "array([7, 3, 4, 6, 1, 8, 1, 0], dtype=uint8)"
      ]
     },
     "execution_count": 136,
     "metadata": {},
     "output_type": "execute_result"
    }
   ],
   "source": [
    "labels_n"
   ]
  },
  {
   "cell_type": "markdown",
   "metadata": {},
   "source": [
    "## What did we miss?"
   ]
  },
  {
   "cell_type": "markdown",
   "metadata": {},
   "source": [
    "> why kattappa killed bahubali?"
   ]
  },
  {
   "cell_type": "markdown",
   "metadata": {},
   "source": [
    "The parameters of the model (W,b), are initialized randomly. \n",
    "We need the right values of parameters, that will maximize the accuracy - give us correct labels.\n",
    "How do we find such parameters?\n",
    "\n",
    "**We learn from data.**\n",
    "\n",
    "1. We pass an image through the graph\n",
    "2. Look at the performance\n",
    "3. Measure the error ( compare `labels_n` with `probs` )\n",
    "4. Use the error as gauge, to change the parameters just a little bit\n",
    "5. Repeat for the next image (1)"
   ]
  },
  {
   "cell_type": "markdown",
   "metadata": {},
   "source": [
    "## Performance Measure"
   ]
  },
  {
   "cell_type": "markdown",
   "metadata": {},
   "source": [
    "We use the cost function or loss function, as measure of the performace. The `loss` is a scalar. We use a special loss function here (for classification problems), known as the **Cross Entropy**."
   ]
  },
  {
   "cell_type": "code",
   "execution_count": 137,
   "metadata": {
    "collapsed": false
   },
   "outputs": [],
   "source": [
    "loss = tf.nn.sparse_softmax_cross_entropy_with_logits(labels=y_,\n",
    "                                                     logits=logits)"
   ]
  },
  {
   "cell_type": "markdown",
   "metadata": {},
   "source": [
    "Remember `y_`?"
   ]
  },
  {
   "cell_type": "markdown",
   "metadata": {},
   "source": [
    "## Execute Loss"
   ]
  },
  {
   "cell_type": "code",
   "execution_count": 138,
   "metadata": {
    "collapsed": true
   },
   "outputs": [],
   "source": [
    "loss_value = sess.run(loss, feed_dict={\n",
    "    x_ : images_n,\n",
    "    y_ : labels_n\n",
    "})"
   ]
  },
  {
   "cell_type": "code",
   "execution_count": 139,
   "metadata": {
    "collapsed": false
   },
   "outputs": [
    {
     "data": {
      "text/plain": [
       "array([ 2.66220403,  1.4083755 ,  3.27963543,  3.0933814 ,  2.62039852,\n",
       "        2.71924877,  2.48623037,  2.51116753], dtype=float32)"
      ]
     },
     "execution_count": 139,
     "metadata": {},
     "output_type": "execute_result"
    }
   ],
   "source": [
    "loss_value"
   ]
  },
  {
   "cell_type": "code",
   "execution_count": 140,
   "metadata": {
    "collapsed": false
   },
   "outputs": [
    {
     "data": {
      "text/plain": [
       "(8,)"
      ]
     },
     "execution_count": 140,
     "metadata": {},
     "output_type": "execute_result"
    }
   ],
   "source": [
    "loss_value.shape"
   ]
  },
  {
   "cell_type": "markdown",
   "metadata": {},
   "source": [
    "## Learning"
   ]
  },
  {
   "cell_type": "code",
   "execution_count": 141,
   "metadata": {
    "collapsed": true
   },
   "outputs": [],
   "source": [
    "# take average of loss\n",
    "batch_loss = tf.nn.sparse_softmax_cross_entropy_with_logits(labels=y_,\n",
    "                                                     logits=logits)\n",
    "loss = tf.reduce_mean(batch_loss)"
   ]
  },
  {
   "cell_type": "code",
   "execution_count": 142,
   "metadata": {
    "collapsed": false
   },
   "outputs": [
    {
     "name": "stdout",
     "output_type": "stream",
     "text": [
      "Tensor(\"SparseSoftmaxCrossEntropyWithLogits_1/SparseSoftmaxCrossEntropyWithLogits:0\", shape=(?,), dtype=float32)\n",
      "Tensor(\"Mean:0\", shape=(), dtype=float32)\n"
     ]
    }
   ],
   "source": [
    "print(batch_loss)\n",
    "print(loss)"
   ]
  },
  {
   "cell_type": "code",
   "execution_count": 143,
   "metadata": {
    "collapsed": true
   },
   "outputs": [],
   "source": [
    "# training operation\n",
    "optimizer = tf.train.GradientDescentOptimizer(learning_rate=0.1)\n",
    "train_op = optimizer.minimize(loss)"
   ]
  },
  {
   "cell_type": "markdown",
   "metadata": {},
   "source": [
    "**What did we do?**\n",
    "\n",
    "1. Get average loss (scalar) from an array of losses of the whole batch\n",
    "2. Create an optimizer which internally uses Gradient Descent method (you should read up on that.)\n",
    "3. Define a training operation, which minimizes the loss"
   ]
  },
  {
   "cell_type": "markdown",
   "metadata": {},
   "source": [
    "## Execute Training"
   ]
  },
  {
   "cell_type": "markdown",
   "metadata": {},
   "source": [
    "Remember when we used `batch_n = mnist_data.train.next_batch(batch_size=8)` to get a small batch of size 8?\n",
    "\n",
    "Now we need the whole training set to train the model. The training will happen iteratively, one batch at a time. We define a term `epochs`, which represents the total number of iterations, to run training.\n",
    "\n",
    "1. Get a batch from mnist, using `mnist_data.train.next_batch`\n",
    "2. Run `train_op` in session\n",
    "3. Print `loss`\n",
    "4. Repeat (1) until end of epochs"
   ]
  },
  {
   "cell_type": "code",
   "execution_count": 144,
   "metadata": {
    "collapsed": false
   },
   "outputs": [
    {
     "name": "stdout",
     "output_type": "stream",
     "text": [
      "Iteration 0 : loss = 2.4646191596984863\n",
      "Iteration 1 : loss = 2.2043087482452393\n",
      "Iteration 2 : loss = 2.240405321121216\n",
      "Iteration 3 : loss = 2.0985069274902344\n",
      "Iteration 4 : loss = 1.986089825630188\n",
      "Iteration 5 : loss = 2.095032215118408\n",
      "Iteration 6 : loss = 1.9844295978546143\n",
      "Iteration 7 : loss = 1.7443232536315918\n",
      "Iteration 8 : loss = 1.7369577884674072\n",
      "Iteration 9 : loss = 1.4711213111877441\n",
      "Iteration 10 : loss = 1.4883806705474854\n",
      "Iteration 11 : loss = 1.3990756273269653\n",
      "Iteration 12 : loss = 1.5170842409133911\n",
      "Iteration 13 : loss = 1.5204864740371704\n",
      "Iteration 14 : loss = 1.6976511478424072\n",
      "Iteration 15 : loss = 1.6211637258529663\n",
      "Iteration 16 : loss = 1.4308955669403076\n",
      "Iteration 17 : loss = 1.2701510190963745\n",
      "Iteration 18 : loss = 1.2899624109268188\n",
      "Iteration 19 : loss = 1.498611569404602\n",
      "Iteration 20 : loss = 1.2823331356048584\n",
      "Iteration 21 : loss = 1.1552516222000122\n",
      "Iteration 22 : loss = 1.0737944841384888\n",
      "Iteration 23 : loss = 0.9777443408966064\n",
      "Iteration 24 : loss = 1.067744255065918\n",
      "Iteration 25 : loss = 0.9354647397994995\n",
      "Iteration 26 : loss = 1.1609985828399658\n",
      "Iteration 27 : loss = 1.2166213989257812\n",
      "Iteration 28 : loss = 1.055069088935852\n",
      "Iteration 29 : loss = 0.967879056930542\n",
      "Iteration 30 : loss = 0.9904192686080933\n",
      "Iteration 31 : loss = 1.0728938579559326\n",
      "Iteration 32 : loss = 1.0196573734283447\n",
      "Iteration 33 : loss = 0.8458666205406189\n",
      "Iteration 34 : loss = 1.065673589706421\n",
      "Iteration 35 : loss = 1.0911049842834473\n",
      "Iteration 36 : loss = 0.8194229602813721\n",
      "Iteration 37 : loss = 1.1898735761642456\n",
      "Iteration 38 : loss = 0.7512985467910767\n",
      "Iteration 39 : loss = 0.8677170276641846\n",
      "Iteration 40 : loss = 0.762016236782074\n",
      "Iteration 41 : loss = 0.907066285610199\n",
      "Iteration 42 : loss = 0.9165353178977966\n",
      "Iteration 43 : loss = 0.6230384111404419\n",
      "Iteration 44 : loss = 0.8026092648506165\n",
      "Iteration 45 : loss = 0.5185415744781494\n",
      "Iteration 46 : loss = 0.7460883259773254\n",
      "Iteration 47 : loss = 0.961216390132904\n",
      "Iteration 48 : loss = 0.9745055437088013\n",
      "Iteration 49 : loss = 0.6924391388893127\n",
      "Iteration 50 : loss = 0.6968868970870972\n",
      "Iteration 51 : loss = 0.6446136832237244\n",
      "Iteration 52 : loss = 0.5330133438110352\n",
      "Iteration 53 : loss = 0.7977123856544495\n",
      "Iteration 54 : loss = 0.8390776515007019\n",
      "Iteration 55 : loss = 0.6257823705673218\n",
      "Iteration 56 : loss = 0.8376617431640625\n",
      "Iteration 57 : loss = 0.6752473711967468\n",
      "Iteration 58 : loss = 0.7962993383407593\n",
      "Iteration 59 : loss = 0.687124490737915\n",
      "Iteration 60 : loss = 0.6879886984825134\n",
      "Iteration 61 : loss = 0.9002314805984497\n",
      "Iteration 62 : loss = 0.7295812368392944\n",
      "Iteration 63 : loss = 0.8429228663444519\n",
      "Iteration 64 : loss = 0.6209352612495422\n",
      "Iteration 65 : loss = 0.3946409821510315\n",
      "Iteration 66 : loss = 0.5016748905181885\n",
      "Iteration 67 : loss = 0.680935263633728\n",
      "Iteration 68 : loss = 0.6246364712715149\n",
      "Iteration 69 : loss = 0.4943616986274719\n",
      "Iteration 70 : loss = 0.5659722089767456\n",
      "Iteration 71 : loss = 0.5444067716598511\n",
      "Iteration 72 : loss = 0.5496770143508911\n",
      "Iteration 73 : loss = 0.5914027690887451\n",
      "Iteration 74 : loss = 0.632557213306427\n",
      "Iteration 75 : loss = 0.7008703947067261\n",
      "Iteration 76 : loss = 0.527292013168335\n",
      "Iteration 77 : loss = 0.6845458745956421\n",
      "Iteration 78 : loss = 0.9168658256530762\n",
      "Iteration 79 : loss = 0.6226635575294495\n",
      "Iteration 80 : loss = 0.5066108703613281\n",
      "Iteration 81 : loss = 0.5808897018432617\n",
      "Iteration 82 : loss = 0.5901544690132141\n",
      "Iteration 83 : loss = 0.4354934096336365\n",
      "Iteration 84 : loss = 0.6197367310523987\n",
      "Iteration 85 : loss = 0.5039657354354858\n",
      "Iteration 86 : loss = 0.5180323123931885\n",
      "Iteration 87 : loss = 0.4374231696128845\n",
      "Iteration 88 : loss = 0.5319249629974365\n",
      "Iteration 89 : loss = 0.5592511892318726\n",
      "Iteration 90 : loss = 0.6186535954475403\n",
      "Iteration 91 : loss = 0.53969407081604\n",
      "Iteration 92 : loss = 0.8655732870101929\n",
      "Iteration 93 : loss = 0.6257292032241821\n",
      "Iteration 94 : loss = 0.5364876985549927\n",
      "Iteration 95 : loss = 0.5829112529754639\n",
      "Iteration 96 : loss = 0.4359918236732483\n",
      "Iteration 97 : loss = 0.5405485033988953\n",
      "Iteration 98 : loss = 0.674162745475769\n",
      "Iteration 99 : loss = 0.45959678292274475\n"
     ]
    }
   ],
   "source": [
    "epochs = 100\n",
    "for i in range(epochs):\n",
    "    # get a batch from mnist\n",
    "    images_i, labels_i = mnist_data.train.next_batch(32) # batch_size is 32\n",
    "    _, loss_value = sess.run([train_op, loss], feed_dict= {\n",
    "        x_ : images_i,\n",
    "        y_ : labels_i\n",
    "    })\n",
    "    print('Iteration {} : loss = {}'.format(i, loss_value))"
   ]
  },
  {
   "cell_type": "markdown",
   "metadata": {},
   "source": [
    "It would be nice to have a better measure of performance, that makes sense to us. \n",
    "How about accuracy?"
   ]
  },
  {
   "cell_type": "markdown",
   "metadata": {},
   "source": [
    "## Accuracy"
   ]
  },
  {
   "cell_type": "code",
   "execution_count": 145,
   "metadata": {
    "collapsed": false
   },
   "outputs": [
    {
     "data": {
      "text/plain": [
       "<tf.Tensor 'ArgMax:0' shape=(?,) dtype=int64>"
      ]
     },
     "execution_count": 145,
     "metadata": {},
     "output_type": "execute_result"
    }
   ],
   "source": [
    "predictions"
   ]
  },
  {
   "cell_type": "code",
   "execution_count": 146,
   "metadata": {
    "collapsed": false
   },
   "outputs": [
    {
     "data": {
      "text/plain": [
       "<tf.Tensor 'y:0' shape=(?,) dtype=int64>"
      ]
     },
     "execution_count": 146,
     "metadata": {},
     "output_type": "execute_result"
    }
   ],
   "source": [
    "y_"
   ]
  },
  {
   "cell_type": "code",
   "execution_count": 148,
   "metadata": {
    "collapsed": false
   },
   "outputs": [],
   "source": [
    "# check if the labels match\n",
    "correct_prediction = tf.equal(predictions, y_)\n",
    "# calculate how many labels match, in a batch\n",
    "accuracy = tf.reduce_mean(tf.cast(correct_prediction, tf.float32))"
   ]
  },
  {
   "cell_type": "markdown",
   "metadata": {},
   "source": [
    "## Train Again"
   ]
  },
  {
   "cell_type": "code",
   "execution_count": 151,
   "metadata": {
    "collapsed": false
   },
   "outputs": [
    {
     "name": "stdout",
     "output_type": "stream",
     "text": [
      "Iteration 0 : loss = 71.875%\n",
      "Iteration 1 : loss = 81.25%\n",
      "Iteration 2 : loss = 75.0%\n",
      "Iteration 3 : loss = 71.875%\n",
      "Iteration 4 : loss = 87.5%\n",
      "Iteration 5 : loss = 71.875%\n",
      "Iteration 6 : loss = 87.5%\n",
      "Iteration 7 : loss = 84.375%\n",
      "Iteration 8 : loss = 84.375%\n",
      "Iteration 9 : loss = 93.75%\n",
      "Iteration 10 : loss = 84.375%\n",
      "Iteration 11 : loss = 84.375%\n",
      "Iteration 12 : loss = 96.875%\n",
      "Iteration 13 : loss = 90.625%\n",
      "Iteration 14 : loss = 81.25%\n",
      "Iteration 15 : loss = 93.75%\n",
      "Iteration 16 : loss = 84.375%\n",
      "Iteration 17 : loss = 81.25%\n",
      "Iteration 18 : loss = 93.75%\n",
      "Iteration 19 : loss = 81.25%\n",
      "Iteration 20 : loss = 90.625%\n",
      "Iteration 21 : loss = 93.75%\n",
      "Iteration 22 : loss = 84.375%\n",
      "Iteration 23 : loss = 90.625%\n",
      "Iteration 24 : loss = 93.75%\n",
      "Iteration 25 : loss = 90.625%\n",
      "Iteration 26 : loss = 93.75%\n",
      "Iteration 27 : loss = 90.625%\n",
      "Iteration 28 : loss = 84.375%\n",
      "Iteration 29 : loss = 90.625%\n",
      "Iteration 30 : loss = 90.625%\n",
      "Iteration 31 : loss = 96.875%\n",
      "Iteration 32 : loss = 90.625%\n",
      "Iteration 33 : loss = 84.375%\n",
      "Iteration 34 : loss = 71.875%\n",
      "Iteration 35 : loss = 78.125%\n",
      "Iteration 36 : loss = 90.625%\n",
      "Iteration 37 : loss = 75.0%\n",
      "Iteration 38 : loss = 78.125%\n",
      "Iteration 39 : loss = 87.5%\n",
      "Iteration 40 : loss = 84.375%\n",
      "Iteration 41 : loss = 87.5%\n",
      "Iteration 42 : loss = 81.25%\n",
      "Iteration 43 : loss = 84.375%\n",
      "Iteration 44 : loss = 81.25%\n",
      "Iteration 45 : loss = 93.75%\n",
      "Iteration 46 : loss = 96.875%\n",
      "Iteration 47 : loss = 90.625%\n",
      "Iteration 48 : loss = 81.25%\n",
      "Iteration 49 : loss = 78.125%\n",
      "Iteration 50 : loss = 93.75%\n",
      "Iteration 51 : loss = 87.5%\n",
      "Iteration 52 : loss = 96.875%\n",
      "Iteration 53 : loss = 96.875%\n",
      "Iteration 54 : loss = 87.5%\n",
      "Iteration 55 : loss = 93.75%\n",
      "Iteration 56 : loss = 90.625%\n",
      "Iteration 57 : loss = 87.5%\n",
      "Iteration 58 : loss = 96.875%\n",
      "Iteration 59 : loss = 81.25%\n",
      "Iteration 60 : loss = 84.375%\n",
      "Iteration 61 : loss = 90.625%\n",
      "Iteration 62 : loss = 90.625%\n",
      "Iteration 63 : loss = 81.25%\n",
      "Iteration 64 : loss = 81.25%\n",
      "Iteration 65 : loss = 93.75%\n",
      "Iteration 66 : loss = 78.125%\n",
      "Iteration 67 : loss = 87.5%\n",
      "Iteration 68 : loss = 81.25%\n",
      "Iteration 69 : loss = 87.5%\n",
      "Iteration 70 : loss = 90.625%\n",
      "Iteration 71 : loss = 78.125%\n",
      "Iteration 72 : loss = 81.25%\n",
      "Iteration 73 : loss = 84.375%\n",
      "Iteration 74 : loss = 87.5%\n",
      "Iteration 75 : loss = 84.375%\n",
      "Iteration 76 : loss = 87.5%\n",
      "Iteration 77 : loss = 81.25%\n",
      "Iteration 78 : loss = 90.625%\n",
      "Iteration 79 : loss = 84.375%\n",
      "Iteration 80 : loss = 75.0%\n",
      "Iteration 81 : loss = 90.625%\n",
      "Iteration 82 : loss = 84.375%\n",
      "Iteration 83 : loss = 96.875%\n",
      "Iteration 84 : loss = 100.0%\n",
      "Iteration 85 : loss = 75.0%\n",
      "Iteration 86 : loss = 81.25%\n",
      "Iteration 87 : loss = 90.625%\n",
      "Iteration 88 : loss = 93.75%\n",
      "Iteration 89 : loss = 78.125%\n",
      "Iteration 90 : loss = 78.125%\n",
      "Iteration 91 : loss = 90.625%\n",
      "Iteration 92 : loss = 90.625%\n",
      "Iteration 93 : loss = 87.5%\n",
      "Iteration 94 : loss = 87.5%\n",
      "Iteration 95 : loss = 75.0%\n",
      "Iteration 96 : loss = 90.625%\n",
      "Iteration 97 : loss = 84.375%\n",
      "Iteration 98 : loss = 84.375%\n",
      "Iteration 99 : loss = 81.25%\n"
     ]
    }
   ],
   "source": [
    "epochs = 100\n",
    "for i in range(epochs):\n",
    "    # get a batch from mnist\n",
    "    images_i, labels_i = mnist_data.train.next_batch(32) # batch_size is 32\n",
    "    _, accuracy_value = sess.run([train_op, accuracy], feed_dict= {\n",
    "        x_ : images_i,\n",
    "        y_ : labels_i\n",
    "    })\n",
    "    print('Iteration {} : loss = {}%'.format(i, accuracy_value*100))"
   ]
  },
  {
   "cell_type": "markdown",
   "metadata": {},
   "source": [
    "## Train some more"
   ]
  },
  {
   "cell_type": "code",
   "execution_count": 153,
   "metadata": {
    "collapsed": true
   },
   "outputs": [],
   "source": [
    "# recreate session\n",
    "#  just for fun\n",
    "sess = tf.InteractiveSession()\n",
    "sess.run(tf.global_variables_initializer())"
   ]
  },
  {
   "cell_type": "code",
   "execution_count": 154,
   "metadata": {
    "collapsed": false
   },
   "outputs": [
    {
     "name": "stdout",
     "output_type": "stream",
     "text": [
      "Iteration 10000 : loss = 90.93%\n",
      "Iteration 20000 : loss = 92.296875%\n",
      "Iteration 30000 : loss = 92.543125%\n",
      "Iteration 40000 : loss = 92.75625%\n",
      "Iteration 50000 : loss = 92.86375%\n",
      "Iteration 60000 : loss = 92.9415625%\n",
      "Iteration 70000 : loss = 93.015625%\n",
      "Iteration 80000 : loss = 93.0546875%\n",
      "Iteration 90000 : loss = 93.115%\n"
     ]
    }
   ],
   "source": [
    "epochs = 100000 # 3 more zeros\n",
    "avg_acc = 0.\n",
    "for i in range(epochs):\n",
    "    # get a batch from mnist\n",
    "    images_i, labels_i = mnist_data.train.next_batch(32) # batch_size is 32\n",
    "    _, accuracy_value = sess.run([train_op, accuracy], feed_dict= {\n",
    "        x_ : images_i,\n",
    "        y_ : labels_i\n",
    "    })\n",
    "    avg_acc += accuracy_value\n",
    "    if i and i % 10000 == 0:\n",
    "        print('Iteration {} : loss = {}%'.format(i, (avg_acc*100)/10000 ))\n",
    "        avg_acc = 0."
   ]
  },
  {
   "cell_type": "markdown",
   "metadata": {},
   "source": [
    "That's great. But what did we miss?\n",
    "\n",
    "The accuracy is pretty decent on the training data. But does it guarantee the performance on some other data? How can we check that?\n",
    "\n",
    "- We train on training set and evaluate the accuracy on validation set."
   ]
  },
  {
   "cell_type": "markdown",
   "metadata": {},
   "source": [
    "## Validation"
   ]
  },
  {
   "cell_type": "code",
   "execution_count": 156,
   "metadata": {
    "collapsed": false
   },
   "outputs": [
    {
     "name": "stdout",
     "output_type": "stream",
     "text": [
      "Iteration 10000 : accuracy = 90.970625%\n",
      "\t Validation accuracy : 91.11328125%\n",
      "Iteration 20000 : accuracy = 92.2784375%\n",
      "\t Validation accuracy : 93.26171875%\n",
      "Iteration 30000 : accuracy = 92.5553125%\n",
      "\t Validation accuracy : 93.9453125%\n",
      "Iteration 40000 : accuracy = 92.76125%\n",
      "\t Validation accuracy : 91.6015625%\n",
      "Iteration 50000 : accuracy = 92.8375%\n",
      "\t Validation accuracy : 91.89453125%\n",
      "Iteration 60000 : accuracy = 92.9315625%\n",
      "\t Validation accuracy : 92.3828125%\n",
      "Iteration 70000 : accuracy = 93.02875%\n",
      "\t Validation accuracy : 93.359375%\n",
      "Iteration 80000 : accuracy = 93.0653125%\n",
      "\t Validation accuracy : 93.06640625%\n",
      "Iteration 90000 : accuracy = 93.1296875%\n",
      "\t Validation accuracy : 92.7734375%\n"
     ]
    }
   ],
   "source": [
    "# recreate session\n",
    "#  just for fun\n",
    "sess = tf.InteractiveSession()\n",
    "sess.run(tf.global_variables_initializer())\n",
    "\n",
    "epochs = 100000 # 3 more zeros\n",
    "avg_acc = 0.\n",
    "for i in range(epochs):\n",
    "    # get a batch from mnist\n",
    "    images_train_i, labels_train_i = mnist_data.train.next_batch(32) # batch_size is 32\n",
    "    _, accuracy_value = sess.run([train_op, accuracy], feed_dict= {\n",
    "        x_ : images_train_i,\n",
    "        y_ : labels_train_i\n",
    "    })\n",
    "    avg_acc += accuracy_value\n",
    "    if i and i % 10000 == 0:\n",
    "        print('Iteration {} : accuracy = {}%'.format(i, (avg_acc*100)/10000 ))\n",
    "        avg_acc = 0.\n",
    "        # evaluation\n",
    "        #  get validation set\n",
    "        images_valid, labels_valid = mnist_data.validation.next_batch(1024)\n",
    "        valid_acc = sess.run(accuracy, feed_dict={\n",
    "            x_ : images_valid,\n",
    "            y_ : labels_valid\n",
    "        })\n",
    "        print('\\t Validation accuracy : {}%'.format(valid_acc*100))"
   ]
  },
  {
   "cell_type": "markdown",
   "metadata": {},
   "source": [
    "## Finally, "
   ]
  },
  {
   "cell_type": "code",
   "execution_count": 158,
   "metadata": {
    "collapsed": true
   },
   "outputs": [],
   "source": [
    "image_n, label_n = mnist_data.test.next_batch(1)"
   ]
  },
  {
   "cell_type": "code",
   "execution_count": 159,
   "metadata": {
    "collapsed": false
   },
   "outputs": [
    {
     "data": {
      "image/png": "[encoded data removed]",
      "text/plain": [
       "<matplotlib.figure.Figure at 0x7f6894c4acc0>"
      ]
     },
     "metadata": {},
     "output_type": "display_data"
    }
   ],
   "source": [
    "helper.show_mnist_image(plt, image_n[0])"
   ]
  },
  {
   "cell_type": "code",
   "execution_count": 160,
   "metadata": {
    "collapsed": false
   },
   "outputs": [
    {
     "name": "stdout",
     "output_type": "stream",
     "text": [
      "(1,) [7]\n"
     ]
    }
   ],
   "source": [
    "print(label_n.shape, label_n)"
   ]
  },
  {
   "cell_type": "code",
   "execution_count": 165,
   "metadata": {
    "collapsed": false
   },
   "outputs": [
    {
     "name": "stdout",
     "output_type": "stream",
     "text": [
      "Probability Distribution : \n",
      " [  2.08494066e-06   5.04711019e-13   3.76748085e-06   4.83460166e-03\n",
      "   1.71969873e-07   1.07542037e-05   3.63903976e-11   9.94486153e-01\n",
      "   2.43600298e-05   6.38132682e-04]\n",
      "Predicted Label : 7, with confidence of 99.4486153125763%\n"
     ]
    }
   ],
   "source": [
    "prob_values, predicted_label = sess.run([probs, predictions], feed_dict={\n",
    "    x_ : image_n\n",
    "})\n",
    "print('Probability Distribution : \\n', prob_values[0])\n",
    "print('Predicted Label : {}, with confidence of {}%'.\n",
    "      format(predicted_label[0], prob_values[0][predicted_label[0]]*100))"
   ]
  },
  {
   "cell_type": "markdown",
   "metadata": {},
   "source": [
    "Predicted Label : **7**, with confidence of **99.44%**"
   ]
  },
  {
   "cell_type": "markdown",
   "metadata": {},
   "source": [
    "# MIC DROP!"
   ]
  }
 ],
 "metadata": {
  "kernelspec": {
   "display_name": "basic",
   "language": "python",
   "name": "basic"
  },
  "language_info": {
   "codemirror_mode": {
    "name": "ipython",
    "version": 3
   },
   "file_extension": ".py",
   "mimetype": "text/x-python",
   "name": "python",
   "nbconvert_exporter": "python",
   "pygments_lexer": "ipython3",
   "version": "3.5.2"
  }
 },
 "nbformat": 4,
 "nbformat_minor": 2
}
