{
 "cells": [
  {
   "cell_type": "markdown",
   "metadata": {},
   "source": [
    "# Recurring Patterns in Tensorflow"
   ]
  },
  {
   "cell_type": "code",
   "execution_count": 46,
   "metadata": {
    "collapsed": true
   },
   "outputs": [],
   "source": [
    "import tensorflow as tf\n",
    "import numpy as np"
   ]
  },
  {
   "cell_type": "markdown",
   "metadata": {},
   "source": [
    "## Graph"
   ]
  },
  {
   "cell_type": "markdown",
   "metadata": {},
   "source": [
    "- Entry points : `tf.placeholder`\n",
    "- Variables : `tf.get_variable`\n",
    "- Operations : `tf.add`\n",
    "- Optimizer : `tf.train.GradientDescentOptimizer(learning_rate)`"
   ]
  },
  {
   "cell_type": "markdown",
   "metadata": {},
   "source": [
    "## Session"
   ]
  },
  {
   "cell_type": "markdown",
   "metadata": {},
   "source": [
    "- Session : `tf.Session` or `tf.InteractiveSession`\n",
    "- Initializer : `tf.global_variables_initializer()`\n",
    "- Fetch Data : `tf.run([a, b], ... )`; result of operations `a` and `b` are fetched\n",
    "- Feed Data : `tf.run([...], feed_dict = { x_ : ..., y_ : ... }`; feed data through entry points"
   ]
  },
  {
   "cell_type": "markdown",
   "metadata": {},
   "source": [
    "## Example : Dummy Graph"
   ]
  },
  {
   "cell_type": "markdown",
   "metadata": {},
   "source": [
    "Build this graph.\n",
    "\n",
    "$$\n",
    "d = a*b + c\n",
    "$$\n",
    "\n",
    "- Notice every variable is a scalar\n",
    "- `a`, `b`, `c` are all placeholders\n",
    "- `d` is the output of the final operation"
   ]
  },
  {
   "cell_type": "code",
   "execution_count": 4,
   "metadata": {
    "collapsed": false
   },
   "outputs": [],
   "source": [
    "tf.reset_default_graph()\n",
    "a, b, c = (tf.placeholder(dtype=tf.float32,\n",
    "                          name='{}'.format(name_i)) for name_i in 'abc')\n",
    "d = (a*b) + c"
   ]
  },
  {
   "cell_type": "markdown",
   "metadata": {},
   "source": [
    "Check out the operations in the graph"
   ]
  },
  {
   "cell_type": "code",
   "execution_count": 6,
   "metadata": {
    "collapsed": false
   },
   "outputs": [
    {
     "data": {
      "text/plain": [
       "[<tf.Operation 'a' type=Placeholder>,\n",
       " <tf.Operation 'b' type=Placeholder>,\n",
       " <tf.Operation 'c' type=Placeholder>,\n",
       " <tf.Operation 'mul' type=Mul>,\n",
       " <tf.Operation 'add' type=Add>]"
      ]
     },
     "execution_count": 6,
     "metadata": {},
     "output_type": "execute_result"
    }
   ],
   "source": [
    "tf.get_default_graph().get_operations()"
   ]
  },
  {
   "cell_type": "markdown",
   "metadata": {},
   "source": [
    "final output"
   ]
  },
  {
   "cell_type": "code",
   "execution_count": 9,
   "metadata": {
    "collapsed": false
   },
   "outputs": [
    {
     "data": {
      "text/plain": [
       "<tf.Tensor 'add:0' shape=<unknown> dtype=float32>"
      ]
     },
     "execution_count": 9,
     "metadata": {},
     "output_type": "execute_result"
    }
   ],
   "source": [
    "d"
   ]
  },
  {
   "cell_type": "markdown",
   "metadata": {},
   "source": [
    "## Execution"
   ]
  },
  {
   "cell_type": "code",
   "execution_count": 11,
   "metadata": {
    "collapsed": false
   },
   "outputs": [
    {
     "name": "stdout",
     "output_type": "stream",
     "text": [
      "10.0\n"
     ]
    }
   ],
   "source": [
    "sess = tf.InteractiveSession()\n",
    "d_value = sess.run(d, feed_dict={\n",
    "    a : 2,\n",
    "    b : 3,\n",
    "    c : 4\n",
    "})\n",
    "print(d_value)"
   ]
  },
  {
   "cell_type": "markdown",
   "metadata": {},
   "source": [
    "## What did we miss?"
   ]
  },
  {
   "cell_type": "markdown",
   "metadata": {},
   "source": [
    "- Variables : `tf.get_variable`\n",
    "- Optimizer : `tf.train.GradientDescentOptimizer(learning_rate)`\n",
    "- Initializer : `tf.global_variables_initializer()`"
   ]
  },
  {
   "cell_type": "markdown",
   "metadata": {},
   "source": [
    "## Variable"
   ]
  },
  {
   "cell_type": "markdown",
   "metadata": {},
   "source": [
    "Let us define a new graph, where we have a `tf.Variable` in our graph. \n",
    "`Variable` is a special tensor, that maintains it's state in the graph. It is initialized when the \n",
    "session begin, by running `tf.global_variables_initializer()`. "
   ]
  },
  {
   "cell_type": "code",
   "execution_count": 33,
   "metadata": {
    "collapsed": false
   },
   "outputs": [],
   "source": [
    "tf.reset_default_graph()\n",
    "a = tf.placeholder(tf.int64, name='a')\n",
    "i = tf.get_variable(dtype=tf.int64, name='i', shape=(),\n",
    "                   initializer=tf.constant_initializer(7))\n",
    "b = a*i"
   ]
  },
  {
   "cell_type": "code",
   "execution_count": 34,
   "metadata": {
    "collapsed": false
   },
   "outputs": [
    {
     "data": {
      "text/plain": [
       "[<tf.Operation 'a' type=Placeholder>,\n",
       " <tf.Operation 'i/Initializer/Const' type=Const>,\n",
       " <tf.Operation 'i' type=VariableV2>,\n",
       " <tf.Operation 'i/Assign' type=Assign>,\n",
       " <tf.Operation 'i/read' type=Identity>,\n",
       " <tf.Operation 'mul' type=Mul>]"
      ]
     },
     "execution_count": 34,
     "metadata": {},
     "output_type": "execute_result"
    }
   ],
   "source": [
    "tf.get_default_graph().get_operations()"
   ]
  },
  {
   "cell_type": "markdown",
   "metadata": {},
   "source": [
    "## Execute"
   ]
  },
  {
   "cell_type": "code",
   "execution_count": 38,
   "metadata": {
    "collapsed": false
   },
   "outputs": [
    {
     "name": "stdout",
     "output_type": "stream",
     "text": [
      "i : 7\n",
      "b : 0\n",
      "b : 7\n",
      "b : 14\n",
      "b : 21\n",
      "b : 28\n",
      "b : 35\n",
      "b : 42\n",
      "b : 49\n",
      "b : 56\n",
      "b : 63\n"
     ]
    }
   ],
   "source": [
    "sess = tf.InteractiveSession()\n",
    "sess.run(tf.global_variables_initializer())\n",
    "# see value of i\n",
    "print('i :', sess.run(i))\n",
    "for j in range(10):\n",
    "    # get b\n",
    "    b_value = sess.run(b, feed_dict= { a : j })\n",
    "    print('b :', b_value)"
   ]
  },
  {
   "cell_type": "markdown",
   "metadata": {},
   "source": [
    "## What did we miss?\n",
    "\n",
    "- Optimizer : `tf.train.GradientDescentOptimizer(learning_rate)`"
   ]
  },
  {
   "cell_type": "markdown",
   "metadata": {},
   "source": [
    "*Check out [Linear Regression](Linear%20Regression.ipynb) tutorial.*"
   ]
  },
  {
   "cell_type": "markdown",
   "metadata": {},
   "source": [
    "## Let's do Matrix Multiplication"
   ]
  },
  {
   "cell_type": "code",
   "execution_count": 42,
   "metadata": {
    "collapsed": false
   },
   "outputs": [],
   "source": [
    "tf.reset_default_graph()\n",
    "A = tf.placeholder(shape=[3,3], dtype=tf.float32, name='A')\n",
    "B = tf.placeholder(shape=[2,3], dtype=tf.float32, name='B')\n",
    "C = tf.matmul(A, tf.transpose(B))"
   ]
  },
  {
   "cell_type": "code",
   "execution_count": 43,
   "metadata": {
    "collapsed": false
   },
   "outputs": [
    {
     "data": {
      "text/plain": [
       "<tf.Tensor 'MatMul:0' shape=(3, 2) dtype=float32>"
      ]
     },
     "execution_count": 43,
     "metadata": {},
     "output_type": "execute_result"
    }
   ],
   "source": [
    "C"
   ]
  },
  {
   "cell_type": "markdown",
   "metadata": {},
   "source": [
    "## Try out in session"
   ]
  },
  {
   "cell_type": "code",
   "execution_count": 52,
   "metadata": {
    "collapsed": false
   },
   "outputs": [],
   "source": [
    "sess = tf.InteractiveSession()\n",
    "# dummy data\n",
    "A_value = np.random.randint(0, 5, [3,3])\n",
    "B_value = np.random.randint(0, 5, [2,3])\n",
    "C_value = sess.run(C, feed_dict = {\n",
    "    A : A_value,\n",
    "    B : B_value\n",
    "})"
   ]
  },
  {
   "cell_type": "code",
   "execution_count": 53,
   "metadata": {
    "collapsed": false
   },
   "outputs": [
    {
     "name": "stdout",
     "output_type": "stream",
     "text": [
      "A\n",
      " [[3 1 2]\n",
      " [4 0 0]\n",
      " [0 4 2]]\n",
      "B\n",
      " [[4 3 4]\n",
      " [0 0 4]]\n",
      "C\n",
      " [[ 23.   8.]\n",
      " [ 16.   0.]\n",
      " [ 20.   8.]]\n"
     ]
    }
   ],
   "source": [
    "print('A\\n', A_value)\n",
    "print('B\\n', B_value)\n",
    "print('C\\n', C_value)"
   ]
  }
 ],
 "metadata": {
  "kernelspec": {
   "display_name": "basic",
   "language": "python",
   "name": "basic"
  },
  "language_info": {
   "codemirror_mode": {
    "name": "ipython",
    "version": 3
   },
   "file_extension": ".py",
   "mimetype": "text/x-python",
   "name": "python",
   "nbconvert_exporter": "python",
   "pygments_lexer": "ipython3",
   "version": "3.5.2"
  }
 },
 "nbformat": 4,
 "nbformat_minor": 2
}
